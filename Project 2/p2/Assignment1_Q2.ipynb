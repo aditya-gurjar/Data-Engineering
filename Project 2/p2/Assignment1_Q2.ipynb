{
  "cells": [
    {
      "cell_type": "markdown",
      "id": "391ea643",
      "metadata": {
        "id": "391ea643"
      },
      "source": [
        "## CS/INFO 5304 Assignment 1: Data Preparation <br />\n"
      ]
    },
    {
      "cell_type": "code",
      "source": [
        "from google.colab import files\n",
        "files.upload()"
      ],
      "metadata": {
        "colab": {
          "base_uri": "https://localhost:8080/",
          "height": 56
        },
        "id": "Yuh9nd8Q8tFk",
        "outputId": "99c76179-a996-4514-a35a-f990baa0137b"
      },
      "id": "Yuh9nd8Q8tFk",
      "execution_count": null,
      "outputs": [
        {
          "output_type": "display_data",
          "data": {
            "text/plain": [
              "<IPython.core.display.HTML object>"
            ],
            "text/html": [
              "\n",
              "     <input type=\"file\" id=\"files-cbb2efac-91c2-4412-b502-b7af9c2adad1\" name=\"files[]\" multiple disabled\n",
              "        style=\"border:none\" />\n",
              "     <output id=\"result-cbb2efac-91c2-4412-b502-b7af9c2adad1\">\n",
              "      Upload widget is only available when the cell has been executed in the\n",
              "      current browser session. Please rerun this cell to enable.\n",
              "      </output>\n",
              "      <script>// Copyright 2017 Google LLC\n",
              "//\n",
              "// Licensed under the Apache License, Version 2.0 (the \"License\");\n",
              "// you may not use this file except in compliance with the License.\n",
              "// You may obtain a copy of the License at\n",
              "//\n",
              "//      http://www.apache.org/licenses/LICENSE-2.0\n",
              "//\n",
              "// Unless required by applicable law or agreed to in writing, software\n",
              "// distributed under the License is distributed on an \"AS IS\" BASIS,\n",
              "// WITHOUT WARRANTIES OR CONDITIONS OF ANY KIND, either express or implied.\n",
              "// See the License for the specific language governing permissions and\n",
              "// limitations under the License.\n",
              "\n",
              "/**\n",
              " * @fileoverview Helpers for google.colab Python module.\n",
              " */\n",
              "(function(scope) {\n",
              "function span(text, styleAttributes = {}) {\n",
              "  const element = document.createElement('span');\n",
              "  element.textContent = text;\n",
              "  for (const key of Object.keys(styleAttributes)) {\n",
              "    element.style[key] = styleAttributes[key];\n",
              "  }\n",
              "  return element;\n",
              "}\n",
              "\n",
              "// Max number of bytes which will be uploaded at a time.\n",
              "const MAX_PAYLOAD_SIZE = 100 * 1024;\n",
              "\n",
              "function _uploadFiles(inputId, outputId) {\n",
              "  const steps = uploadFilesStep(inputId, outputId);\n",
              "  const outputElement = document.getElementById(outputId);\n",
              "  // Cache steps on the outputElement to make it available for the next call\n",
              "  // to uploadFilesContinue from Python.\n",
              "  outputElement.steps = steps;\n",
              "\n",
              "  return _uploadFilesContinue(outputId);\n",
              "}\n",
              "\n",
              "// This is roughly an async generator (not supported in the browser yet),\n",
              "// where there are multiple asynchronous steps and the Python side is going\n",
              "// to poll for completion of each step.\n",
              "// This uses a Promise to block the python side on completion of each step,\n",
              "// then passes the result of the previous step as the input to the next step.\n",
              "function _uploadFilesContinue(outputId) {\n",
              "  const outputElement = document.getElementById(outputId);\n",
              "  const steps = outputElement.steps;\n",
              "\n",
              "  const next = steps.next(outputElement.lastPromiseValue);\n",
              "  return Promise.resolve(next.value.promise).then((value) => {\n",
              "    // Cache the last promise value to make it available to the next\n",
              "    // step of the generator.\n",
              "    outputElement.lastPromiseValue = value;\n",
              "    return next.value.response;\n",
              "  });\n",
              "}\n",
              "\n",
              "/**\n",
              " * Generator function which is called between each async step of the upload\n",
              " * process.\n",
              " * @param {string} inputId Element ID of the input file picker element.\n",
              " * @param {string} outputId Element ID of the output display.\n",
              " * @return {!Iterable<!Object>} Iterable of next steps.\n",
              " */\n",
              "function* uploadFilesStep(inputId, outputId) {\n",
              "  const inputElement = document.getElementById(inputId);\n",
              "  inputElement.disabled = false;\n",
              "\n",
              "  const outputElement = document.getElementById(outputId);\n",
              "  outputElement.innerHTML = '';\n",
              "\n",
              "  const pickedPromise = new Promise((resolve) => {\n",
              "    inputElement.addEventListener('change', (e) => {\n",
              "      resolve(e.target.files);\n",
              "    });\n",
              "  });\n",
              "\n",
              "  const cancel = document.createElement('button');\n",
              "  inputElement.parentElement.appendChild(cancel);\n",
              "  cancel.textContent = 'Cancel upload';\n",
              "  const cancelPromise = new Promise((resolve) => {\n",
              "    cancel.onclick = () => {\n",
              "      resolve(null);\n",
              "    };\n",
              "  });\n",
              "\n",
              "  // Wait for the user to pick the files.\n",
              "  const files = yield {\n",
              "    promise: Promise.race([pickedPromise, cancelPromise]),\n",
              "    response: {\n",
              "      action: 'starting',\n",
              "    }\n",
              "  };\n",
              "\n",
              "  cancel.remove();\n",
              "\n",
              "  // Disable the input element since further picks are not allowed.\n",
              "  inputElement.disabled = true;\n",
              "\n",
              "  if (!files) {\n",
              "    return {\n",
              "      response: {\n",
              "        action: 'complete',\n",
              "      }\n",
              "    };\n",
              "  }\n",
              "\n",
              "  for (const file of files) {\n",
              "    const li = document.createElement('li');\n",
              "    li.append(span(file.name, {fontWeight: 'bold'}));\n",
              "    li.append(span(\n",
              "        `(${file.type || 'n/a'}) - ${file.size} bytes, ` +\n",
              "        `last modified: ${\n",
              "            file.lastModifiedDate ? file.lastModifiedDate.toLocaleDateString() :\n",
              "                                    'n/a'} - `));\n",
              "    const percent = span('0% done');\n",
              "    li.appendChild(percent);\n",
              "\n",
              "    outputElement.appendChild(li);\n",
              "\n",
              "    const fileDataPromise = new Promise((resolve) => {\n",
              "      const reader = new FileReader();\n",
              "      reader.onload = (e) => {\n",
              "        resolve(e.target.result);\n",
              "      };\n",
              "      reader.readAsArrayBuffer(file);\n",
              "    });\n",
              "    // Wait for the data to be ready.\n",
              "    let fileData = yield {\n",
              "      promise: fileDataPromise,\n",
              "      response: {\n",
              "        action: 'continue',\n",
              "      }\n",
              "    };\n",
              "\n",
              "    // Use a chunked sending to avoid message size limits. See b/62115660.\n",
              "    let position = 0;\n",
              "    do {\n",
              "      const length = Math.min(fileData.byteLength - position, MAX_PAYLOAD_SIZE);\n",
              "      const chunk = new Uint8Array(fileData, position, length);\n",
              "      position += length;\n",
              "\n",
              "      const base64 = btoa(String.fromCharCode.apply(null, chunk));\n",
              "      yield {\n",
              "        response: {\n",
              "          action: 'append',\n",
              "          file: file.name,\n",
              "          data: base64,\n",
              "        },\n",
              "      };\n",
              "\n",
              "      let percentDone = fileData.byteLength === 0 ?\n",
              "          100 :\n",
              "          Math.round((position / fileData.byteLength) * 100);\n",
              "      percent.textContent = `${percentDone}% done`;\n",
              "\n",
              "    } while (position < fileData.byteLength);\n",
              "  }\n",
              "\n",
              "  // All done.\n",
              "  yield {\n",
              "    response: {\n",
              "      action: 'complete',\n",
              "    }\n",
              "  };\n",
              "}\n",
              "\n",
              "scope.google = scope.google || {};\n",
              "scope.google.colab = scope.google.colab || {};\n",
              "scope.google.colab._files = {\n",
              "  _uploadFiles,\n",
              "  _uploadFilesContinue,\n",
              "};\n",
              "})(self);\n",
              "</script> "
            ]
          },
          "metadata": {}
        },
        {
          "output_type": "execute_result",
          "data": {
            "text/plain": [
              "{}"
            ]
          },
          "metadata": {},
          "execution_count": 185
        }
      ]
    },
    {
      "cell_type": "code",
      "source": [
        "import numpy as np\n",
        "import pandas as pd\n",
        "import matplotlib.pyplot as plt\n",
        "from scipy.stats import ttest_ind, chi2_contingency"
      ],
      "metadata": {
        "id": "mnhylRX8NH3f"
      },
      "id": "mnhylRX8NH3f",
      "execution_count": null,
      "outputs": []
    },
    {
      "cell_type": "code",
      "execution_count": null,
      "id": "6bb5d403",
      "metadata": {
        "id": "6bb5d403"
      },
      "outputs": [],
      "source": [
        "## Case 1 Problem A code (and optional graph)\n",
        "import pandas as pd\n",
        "individual_data = pd.read_pickle('/content/Extrasensory_individual_data.p', compression='infer', storage_options=None)"
      ]
    },
    {
      "cell_type": "code",
      "source": [
        "sensory = pd.read_pickle('/content/Extrasensory_sensor_data.p')\n",
        "sensory['3600D531-0C55-44A7-AE95-A7A38519464E']"
      ],
      "metadata": {
        "colab": {
          "base_uri": "https://localhost:8080/",
          "height": 488
        },
        "id": "ILcFKxa_84VP",
        "outputId": "9dfaaebf-06fd-4777-e576-2d650e48f85e"
      },
      "id": "ILcFKxa_84VP",
      "execution_count": null,
      "outputs": [
        {
          "output_type": "execute_result",
          "data": {
            "text/plain": [
              "      location:raw_latitude  location:raw_longitude  raw_acc:3d:mean_x  \\\n",
              "0                 32.882483             -117.234601           0.022972   \n",
              "1                 32.882480             -117.234595           0.021403   \n",
              "2                 32.882482             -117.234587           0.021201   \n",
              "3                 32.882482             -117.234587           0.021530   \n",
              "4                 32.882483             -117.234582           0.021198   \n",
              "...                     ...                     ...                ...   \n",
              "5198              32.879546             -117.237555          -0.059023   \n",
              "5199              32.880290             -117.237482          -0.147803   \n",
              "5200              32.880383             -117.236507          -0.104133   \n",
              "5201              32.880894             -117.235780          -0.097580   \n",
              "5202              32.881325             -117.234846          -0.100143   \n",
              "\n",
              "      raw_acc:3d:mean_y  raw_acc:3d:mean_z  discrete:app_state:is_active  \\\n",
              "0             -0.002678          -1.002311                           0.0   \n",
              "1             -0.002784          -1.001535                           0.0   \n",
              "2             -0.004036          -1.000577                           0.0   \n",
              "3             -0.004327          -0.998347                           1.0   \n",
              "4             -0.004350          -1.004198                           0.0   \n",
              "...                 ...                ...                           ...   \n",
              "5198           1.008478          -0.027813                           0.0   \n",
              "5199          -0.061424          -0.851655                           0.0   \n",
              "5200           1.043514          -0.040201                           0.0   \n",
              "5201           1.045405          -0.055839                           0.0   \n",
              "5202           1.057408          -0.063492                           0.0   \n",
              "\n",
              "      discrete:app_state:is_inactive  discrete:app_state:is_background  \\\n",
              "0                                1.0                               0.0   \n",
              "1                                0.0                               1.0   \n",
              "2                                1.0                               0.0   \n",
              "3                                0.0                               0.0   \n",
              "4                                1.0                               0.0   \n",
              "...                              ...                               ...   \n",
              "5198                             0.0                               1.0   \n",
              "5199                             0.0                               1.0   \n",
              "5200                             0.0                               1.0   \n",
              "5201                             0.0                               1.0   \n",
              "5202                             0.0                               1.0   \n",
              "\n",
              "      discrete:app_state:missing  lf_measurements:battery_level  \n",
              "0                            0.0                           0.49  \n",
              "1                            0.0                           0.50  \n",
              "2                            0.0                           0.56  \n",
              "3                            0.0                           0.56  \n",
              "4                            0.0                           0.57  \n",
              "...                          ...                            ...  \n",
              "5198                         0.0                           0.65  \n",
              "5199                         0.0                           0.65  \n",
              "5200                         0.0                           0.64  \n",
              "5201                         0.0                           0.64  \n",
              "5202                         0.0                           0.63  \n",
              "\n",
              "[5203 rows x 10 columns]"
            ],
            "text/html": [
              "\n",
              "  <div id=\"df-f423f8eb-1926-4962-b712-53baec5b9cdf\">\n",
              "    <div class=\"colab-df-container\">\n",
              "      <div>\n",
              "<style scoped>\n",
              "    .dataframe tbody tr th:only-of-type {\n",
              "        vertical-align: middle;\n",
              "    }\n",
              "\n",
              "    .dataframe tbody tr th {\n",
              "        vertical-align: top;\n",
              "    }\n",
              "\n",
              "    .dataframe thead th {\n",
              "        text-align: right;\n",
              "    }\n",
              "</style>\n",
              "<table border=\"1\" class=\"dataframe\">\n",
              "  <thead>\n",
              "    <tr style=\"text-align: right;\">\n",
              "      <th></th>\n",
              "      <th>location:raw_latitude</th>\n",
              "      <th>location:raw_longitude</th>\n",
              "      <th>raw_acc:3d:mean_x</th>\n",
              "      <th>raw_acc:3d:mean_y</th>\n",
              "      <th>raw_acc:3d:mean_z</th>\n",
              "      <th>discrete:app_state:is_active</th>\n",
              "      <th>discrete:app_state:is_inactive</th>\n",
              "      <th>discrete:app_state:is_background</th>\n",
              "      <th>discrete:app_state:missing</th>\n",
              "      <th>lf_measurements:battery_level</th>\n",
              "    </tr>\n",
              "  </thead>\n",
              "  <tbody>\n",
              "    <tr>\n",
              "      <th>0</th>\n",
              "      <td>32.882483</td>\n",
              "      <td>-117.234601</td>\n",
              "      <td>0.022972</td>\n",
              "      <td>-0.002678</td>\n",
              "      <td>-1.002311</td>\n",
              "      <td>0.0</td>\n",
              "      <td>1.0</td>\n",
              "      <td>0.0</td>\n",
              "      <td>0.0</td>\n",
              "      <td>0.49</td>\n",
              "    </tr>\n",
              "    <tr>\n",
              "      <th>1</th>\n",
              "      <td>32.882480</td>\n",
              "      <td>-117.234595</td>\n",
              "      <td>0.021403</td>\n",
              "      <td>-0.002784</td>\n",
              "      <td>-1.001535</td>\n",
              "      <td>0.0</td>\n",
              "      <td>0.0</td>\n",
              "      <td>1.0</td>\n",
              "      <td>0.0</td>\n",
              "      <td>0.50</td>\n",
              "    </tr>\n",
              "    <tr>\n",
              "      <th>2</th>\n",
              "      <td>32.882482</td>\n",
              "      <td>-117.234587</td>\n",
              "      <td>0.021201</td>\n",
              "      <td>-0.004036</td>\n",
              "      <td>-1.000577</td>\n",
              "      <td>0.0</td>\n",
              "      <td>1.0</td>\n",
              "      <td>0.0</td>\n",
              "      <td>0.0</td>\n",
              "      <td>0.56</td>\n",
              "    </tr>\n",
              "    <tr>\n",
              "      <th>3</th>\n",
              "      <td>32.882482</td>\n",
              "      <td>-117.234587</td>\n",
              "      <td>0.021530</td>\n",
              "      <td>-0.004327</td>\n",
              "      <td>-0.998347</td>\n",
              "      <td>1.0</td>\n",
              "      <td>0.0</td>\n",
              "      <td>0.0</td>\n",
              "      <td>0.0</td>\n",
              "      <td>0.56</td>\n",
              "    </tr>\n",
              "    <tr>\n",
              "      <th>4</th>\n",
              "      <td>32.882483</td>\n",
              "      <td>-117.234582</td>\n",
              "      <td>0.021198</td>\n",
              "      <td>-0.004350</td>\n",
              "      <td>-1.004198</td>\n",
              "      <td>0.0</td>\n",
              "      <td>1.0</td>\n",
              "      <td>0.0</td>\n",
              "      <td>0.0</td>\n",
              "      <td>0.57</td>\n",
              "    </tr>\n",
              "    <tr>\n",
              "      <th>...</th>\n",
              "      <td>...</td>\n",
              "      <td>...</td>\n",
              "      <td>...</td>\n",
              "      <td>...</td>\n",
              "      <td>...</td>\n",
              "      <td>...</td>\n",
              "      <td>...</td>\n",
              "      <td>...</td>\n",
              "      <td>...</td>\n",
              "      <td>...</td>\n",
              "    </tr>\n",
              "    <tr>\n",
              "      <th>5198</th>\n",
              "      <td>32.879546</td>\n",
              "      <td>-117.237555</td>\n",
              "      <td>-0.059023</td>\n",
              "      <td>1.008478</td>\n",
              "      <td>-0.027813</td>\n",
              "      <td>0.0</td>\n",
              "      <td>0.0</td>\n",
              "      <td>1.0</td>\n",
              "      <td>0.0</td>\n",
              "      <td>0.65</td>\n",
              "    </tr>\n",
              "    <tr>\n",
              "      <th>5199</th>\n",
              "      <td>32.880290</td>\n",
              "      <td>-117.237482</td>\n",
              "      <td>-0.147803</td>\n",
              "      <td>-0.061424</td>\n",
              "      <td>-0.851655</td>\n",
              "      <td>0.0</td>\n",
              "      <td>0.0</td>\n",
              "      <td>1.0</td>\n",
              "      <td>0.0</td>\n",
              "      <td>0.65</td>\n",
              "    </tr>\n",
              "    <tr>\n",
              "      <th>5200</th>\n",
              "      <td>32.880383</td>\n",
              "      <td>-117.236507</td>\n",
              "      <td>-0.104133</td>\n",
              "      <td>1.043514</td>\n",
              "      <td>-0.040201</td>\n",
              "      <td>0.0</td>\n",
              "      <td>0.0</td>\n",
              "      <td>1.0</td>\n",
              "      <td>0.0</td>\n",
              "      <td>0.64</td>\n",
              "    </tr>\n",
              "    <tr>\n",
              "      <th>5201</th>\n",
              "      <td>32.880894</td>\n",
              "      <td>-117.235780</td>\n",
              "      <td>-0.097580</td>\n",
              "      <td>1.045405</td>\n",
              "      <td>-0.055839</td>\n",
              "      <td>0.0</td>\n",
              "      <td>0.0</td>\n",
              "      <td>1.0</td>\n",
              "      <td>0.0</td>\n",
              "      <td>0.64</td>\n",
              "    </tr>\n",
              "    <tr>\n",
              "      <th>5202</th>\n",
              "      <td>32.881325</td>\n",
              "      <td>-117.234846</td>\n",
              "      <td>-0.100143</td>\n",
              "      <td>1.057408</td>\n",
              "      <td>-0.063492</td>\n",
              "      <td>0.0</td>\n",
              "      <td>0.0</td>\n",
              "      <td>1.0</td>\n",
              "      <td>0.0</td>\n",
              "      <td>0.63</td>\n",
              "    </tr>\n",
              "  </tbody>\n",
              "</table>\n",
              "<p>5203 rows × 10 columns</p>\n",
              "</div>\n",
              "      <button class=\"colab-df-convert\" onclick=\"convertToInteractive('df-f423f8eb-1926-4962-b712-53baec5b9cdf')\"\n",
              "              title=\"Convert this dataframe to an interactive table.\"\n",
              "              style=\"display:none;\">\n",
              "        \n",
              "  <svg xmlns=\"http://www.w3.org/2000/svg\" height=\"24px\"viewBox=\"0 0 24 24\"\n",
              "       width=\"24px\">\n",
              "    <path d=\"M0 0h24v24H0V0z\" fill=\"none\"/>\n",
              "    <path d=\"M18.56 5.44l.94 2.06.94-2.06 2.06-.94-2.06-.94-.94-2.06-.94 2.06-2.06.94zm-11 1L8.5 8.5l.94-2.06 2.06-.94-2.06-.94L8.5 2.5l-.94 2.06-2.06.94zm10 10l.94 2.06.94-2.06 2.06-.94-2.06-.94-.94-2.06-.94 2.06-2.06.94z\"/><path d=\"M17.41 7.96l-1.37-1.37c-.4-.4-.92-.59-1.43-.59-.52 0-1.04.2-1.43.59L10.3 9.45l-7.72 7.72c-.78.78-.78 2.05 0 2.83L4 21.41c.39.39.9.59 1.41.59.51 0 1.02-.2 1.41-.59l7.78-7.78 2.81-2.81c.8-.78.8-2.07 0-2.86zM5.41 20L4 18.59l7.72-7.72 1.47 1.35L5.41 20z\"/>\n",
              "  </svg>\n",
              "      </button>\n",
              "      \n",
              "  <style>\n",
              "    .colab-df-container {\n",
              "      display:flex;\n",
              "      flex-wrap:wrap;\n",
              "      gap: 12px;\n",
              "    }\n",
              "\n",
              "    .colab-df-convert {\n",
              "      background-color: #E8F0FE;\n",
              "      border: none;\n",
              "      border-radius: 50%;\n",
              "      cursor: pointer;\n",
              "      display: none;\n",
              "      fill: #1967D2;\n",
              "      height: 32px;\n",
              "      padding: 0 0 0 0;\n",
              "      width: 32px;\n",
              "    }\n",
              "\n",
              "    .colab-df-convert:hover {\n",
              "      background-color: #E2EBFA;\n",
              "      box-shadow: 0px 1px 2px rgba(60, 64, 67, 0.3), 0px 1px 3px 1px rgba(60, 64, 67, 0.15);\n",
              "      fill: #174EA6;\n",
              "    }\n",
              "\n",
              "    [theme=dark] .colab-df-convert {\n",
              "      background-color: #3B4455;\n",
              "      fill: #D2E3FC;\n",
              "    }\n",
              "\n",
              "    [theme=dark] .colab-df-convert:hover {\n",
              "      background-color: #434B5C;\n",
              "      box-shadow: 0px 1px 3px 1px rgba(0, 0, 0, 0.15);\n",
              "      filter: drop-shadow(0px 1px 2px rgba(0, 0, 0, 0.3));\n",
              "      fill: #FFFFFF;\n",
              "    }\n",
              "  </style>\n",
              "\n",
              "      <script>\n",
              "        const buttonEl =\n",
              "          document.querySelector('#df-f423f8eb-1926-4962-b712-53baec5b9cdf button.colab-df-convert');\n",
              "        buttonEl.style.display =\n",
              "          google.colab.kernel.accessAllowed ? 'block' : 'none';\n",
              "\n",
              "        async function convertToInteractive(key) {\n",
              "          const element = document.querySelector('#df-f423f8eb-1926-4962-b712-53baec5b9cdf');\n",
              "          const dataTable =\n",
              "            await google.colab.kernel.invokeFunction('convertToInteractive',\n",
              "                                                     [key], {});\n",
              "          if (!dataTable) return;\n",
              "\n",
              "          const docLinkHtml = 'Like what you see? Visit the ' +\n",
              "            '<a target=\"_blank\" href=https://colab.research.google.com/notebooks/data_table.ipynb>data table notebook</a>'\n",
              "            + ' to learn more about interactive tables.';\n",
              "          element.innerHTML = '';\n",
              "          dataTable['output_type'] = 'display_data';\n",
              "          await google.colab.output.renderOutput(dataTable, element);\n",
              "          const docLink = document.createElement('div');\n",
              "          docLink.innerHTML = docLinkHtml;\n",
              "          element.appendChild(docLink);\n",
              "        }\n",
              "      </script>\n",
              "    </div>\n",
              "  </div>\n",
              "  "
            ]
          },
          "metadata": {},
          "execution_count": 188
        }
      ]
    },
    {
      "cell_type": "code",
      "source": [
        "individual_data['actual_average_screen_time']"
      ],
      "metadata": {
        "colab": {
          "base_uri": "https://localhost:8080/"
        },
        "id": "uY4gEx8o_qd9",
        "outputId": "d41a54a5-92c8-499c-f3fa-554bad2681d2"
      },
      "id": "uY4gEx8o_qd9",
      "execution_count": null,
      "outputs": [
        {
          "output_type": "execute_result",
          "data": {
            "text/plain": [
              "0      5.18\n",
              "1      2.31\n",
              "2     -1.00\n",
              "3      4.75\n",
              "4      1.55\n",
              "5      3.69\n",
              "6      4.72\n",
              "7     -1.00\n",
              "8      3.01\n",
              "9      3.32\n",
              "10     2.67\n",
              "11     4.56\n",
              "12     4.13\n",
              "13     3.62\n",
              "14     3.49\n",
              "15    10.78\n",
              "16     1.60\n",
              "17     4.43\n",
              "18     3.59\n",
              "19     4.06\n",
              "20     4.02\n",
              "21     2.58\n",
              "22     3.34\n",
              "23     3.72\n",
              "24     5.07\n",
              "25     3.39\n",
              "26     2.73\n",
              "27    -1.00\n",
              "28     3.66\n",
              "29     3.27\n",
              "30     3.23\n",
              "31     3.23\n",
              "32     6.06\n",
              "33     4.22\n",
              "34     2.85\n",
              "35     1.49\n",
              "36     4.08\n",
              "37     3.73\n",
              "38     2.57\n",
              "39     3.71\n",
              "40     5.17\n",
              "41     5.69\n",
              "42     5.05\n",
              "43     2.73\n",
              "44    11.63\n",
              "45     5.94\n",
              "46     4.76\n",
              "47     4.62\n",
              "48     4.17\n",
              "49     3.87\n",
              "50    -1.00\n",
              "51     3.74\n",
              "52     3.30\n",
              "53     4.56\n",
              "54     2.65\n",
              "55     2.20\n",
              "56     3.65\n",
              "57     4.49\n",
              "58     4.09\n",
              "59     1.76\n",
              "Name: actual_average_screen_time, dtype: float64"
            ]
          },
          "metadata": {},
          "execution_count": 189
        }
      ]
    },
    {
      "cell_type": "markdown",
      "id": "27463bfd",
      "metadata": {
        "id": "27463bfd"
      },
      "source": [
        "### Case 1: Actual screen time\n"
      ]
    },
    {
      "cell_type": "code",
      "source": [
        "# find the data type of the column\n",
        "print(\"Data type of the column:\", individual_data['actual_average_screen_time'].dtypes)"
      ],
      "metadata": {
        "colab": {
          "base_uri": "https://localhost:8080/"
        },
        "id": "6nA4eDrM_UmM",
        "outputId": "b254dff9-9b58-4f6e-f2fe-827f2c2438c4"
      },
      "id": "6nA4eDrM_UmM",
      "execution_count": null,
      "outputs": [
        {
          "output_type": "stream",
          "name": "stdout",
          "text": [
            "Data type of the column: float64\n"
          ]
        }
      ]
    },
    {
      "cell_type": "code",
      "source": [
        "# from above, it's fair to conclude that there are no blank string values in the column\n",
        "# and as we can see from the output below, the actual_average_screen_time does not have missing values equal to None or NaN\n",
        "print(\"Number of null values in the column:\", individual_data['actual_average_screen_time'].isnull().sum())"
      ],
      "metadata": {
        "colab": {
          "base_uri": "https://localhost:8080/"
        },
        "id": "AYM8GttH97Ua",
        "outputId": "34f9c5c3-f7e2-4cf7-fdb9-660742c358c7"
      },
      "id": "AYM8GttH97Ua",
      "execution_count": null,
      "outputs": [
        {
          "output_type": "stream",
          "name": "stdout",
          "text": [
            "Number of null values in the column: 0\n"
          ]
        }
      ]
    },
    {
      "cell_type": "code",
      "source": [
        "# now since the screen time is a float value, and it should be non-negative, we look for negative values in the column\n",
        "number_of_neg_values = (individual_data['actual_average_screen_time'] < 0).sum()\n",
        "print(\"Number of negative values in the column:\", number_of_neg_values)"
      ],
      "metadata": {
        "colab": {
          "base_uri": "https://localhost:8080/"
        },
        "id": "x-ywk0Er_lQ3",
        "outputId": "50e3d231-727d-44ff-ab74-ecb14e00a3d6"
      },
      "id": "x-ywk0Er_lQ3",
      "execution_count": null,
      "outputs": [
        {
          "output_type": "stream",
          "name": "stdout",
          "text": [
            "Number of negative values in the column: 4\n"
          ]
        }
      ]
    },
    {
      "cell_type": "code",
      "source": [
        "# thus, we find that the missing values in this column are represented as negative values. what are those values? \n",
        "# let's find out\n",
        "negative_value_rows = individual_data[individual_data['actual_average_screen_time'] < 0]\n",
        "negative_values = negative_value_rows['actual_average_screen_time']\n",
        "\n",
        "print(\"The negative values in the column are:\\n\", negative_values)"
      ],
      "metadata": {
        "colab": {
          "base_uri": "https://localhost:8080/"
        },
        "id": "MWbxtYvtASRs",
        "outputId": "0ff6f6a0-bf50-4336-f8b2-90cc881ed08d"
      },
      "id": "MWbxtYvtASRs",
      "execution_count": null,
      "outputs": [
        {
          "output_type": "stream",
          "name": "stdout",
          "text": [
            "The negative values in the column are:\n",
            " 2    -1.0\n",
            "7    -1.0\n",
            "27   -1.0\n",
            "50   -1.0\n",
            "Name: actual_average_screen_time, dtype: float64\n"
          ]
        }
      ]
    },
    {
      "cell_type": "markdown",
      "id": "d32dc81b",
      "metadata": {
        "id": "d32dc81b"
      },
      "source": [
        "#### Writeup Answer to Problem A: \n",
        "How are missing values represented for this feature?\n"
      ]
    },
    {
      "cell_type": "markdown",
      "source": [
        "Thus, the missing values in the actual_average_screen_time feature are represented as -1."
      ],
      "metadata": {
        "id": "-GcCMeb5CdlI"
      },
      "id": "-GcCMeb5CdlI"
    },
    {
      "cell_type": "code",
      "execution_count": null,
      "id": "4dc34a38",
      "metadata": {
        "id": "4dc34a38",
        "colab": {
          "base_uri": "https://localhost:8080/",
          "height": 296
        },
        "outputId": "757267a2-d604-4916-8e6a-6c3b1a500d92"
      },
      "outputs": [
        {
          "output_type": "display_data",
          "data": {
            "text/plain": [
              "<Figure size 432x288 with 1 Axes>"
            ],
            "image/png": "[encoded data removed]"
          },
          "metadata": {
            "needs_background": "light"
          }
        }
      ],
      "source": [
        "## Case 1 Problem B code and graph\n",
        "import matplotlib.pyplot as plt \n",
        "def plot_hist(values):\n",
        "  plt.hist(values, bins=56)\n",
        "  plt.title('Histogram of non-missing values')\n",
        "  plt.xlabel('actual_average_screen_time')\n",
        "  plt.ylabel('frequency')\n",
        "  plt.show()\n",
        "non_missing_values = individual_data[individual_data['actual_average_screen_time'] > 0]['actual_average_screen_time']\n",
        "plot_hist(non_missing_values)"
      ]
    },
    {
      "cell_type": "code",
      "source": [
        "q1 = non_missing_values.quantile(0.25)\n",
        "q3 = non_missing_values.quantile(0.75)\n",
        "iqr = q3 - q1\n",
        "print(\"The inter quartile range is:\", iqr)\n",
        "\n",
        "lower_bound = q1 - (1.5 * iqr)\n",
        "upper_bound = q3 + (1.5 * iqr)\n",
        "outliers = non_missing_values[(non_missing_values > upper_bound) | (non_missing_values < lower_bound)]\n",
        "print(\"Number of outliers in the column:\", len(outliers))\n",
        "\n",
        "# to check skewness, we use pandas skew function\n",
        "skewness_value = non_missing_values.skew()\n",
        "print(\"The skewness value is:\", skewness_value)"
      ],
      "metadata": {
        "colab": {
          "base_uri": "https://localhost:8080/"
        },
        "id": "LmZ4YM-eF37j",
        "outputId": "0a68876e-75d3-4ea3-b211-2904673f8720"
      },
      "id": "LmZ4YM-eF37j",
      "execution_count": null,
      "outputs": [
        {
          "output_type": "stream",
          "name": "stdout",
          "text": [
            "The inter quartile range is: 1.3849999999999998\n",
            "Number of outliers in the column: 2\n",
            "The skewness value is: 2.4639261915800215\n"
          ]
        }
      ]
    },
    {
      "cell_type": "markdown",
      "id": "1230f9f5",
      "metadata": {
        "id": "1230f9f5"
      },
      "source": [
        "#### Writeup Answer to Problem B: \n",
        " Does it have outliers?If so, how many?\n",
        " Is it skewed? If so, is it left skewed or right skewed? What’s the skewness? "
      ]
    },
    {
      "cell_type": "markdown",
      "source": [
        "Yes, the column does have outliers. It has 2 outliers. The column is right skewed with a skewness value of 2.4639261915800215."
      ],
      "metadata": {
        "id": "hlh9V2dEHKbC"
      },
      "id": "hlh9V2dEHKbC"
    },
    {
      "cell_type": "code",
      "execution_count": null,
      "id": "e0692080",
      "metadata": {
        "id": "e0692080",
        "colab": {
          "base_uri": "https://localhost:8080/",
          "height": 279
        },
        "outputId": "5a1efa42-45b2-4ef3-8895-627281f3422e"
      },
      "outputs": [
        {
          "output_type": "display_data",
          "data": {
            "text/plain": [
              "<Figure size 432x288 with 1 Axes>"
            ],
            "image/png": "[encoded data removed]"
          },
          "metadata": {
            "needs_background": "light"
          }
        }
      ],
      "source": [
        "## Case 1 Problem C code and graph\n",
        "original_data = individual_data['actual_average_screen_time']\n",
        "non_missing_data = original_data[original_data >= 0]\n",
        "\n",
        "median = non_missing_data.median()\n",
        "mean = non_missing_data.mean()\n",
        "\n",
        "data_median = original_data.copy()\n",
        "data_median.loc[data_median < 0] = median\n",
        "\n",
        "data_mean = original_data.copy()\n",
        "data_mean.loc[data_mean < 0] = mean\n",
        "\n",
        "# for random values, let's consider the range of min value to max value inside the column\n",
        "min_value = non_missing_data.min()\n",
        "max_value = non_missing_data.max()\n",
        "random_values = np.random.uniform(min_value, max_value, len(original_data) - len(non_missing_data))\n",
        "data_random = original_data.copy()\n",
        "data_random.loc[data_random < 0] = random_values \n",
        "plt.hist(original_data, bins=60, label='original distribution')\n",
        "plt.hist(data_mean, bins=60, label='mean distribution')\n",
        "plt.hist(data_median, bins=60, label='median distribution')\n",
        "plt.hist(data_random, bins=60, label='random distribution')\n",
        "plt.xlabel('Value')\n",
        "plt.ylabel('Frequency')\n",
        "plt.legend(loc='upper right')\n",
        "plt.show()"
      ]
    },
    {
      "cell_type": "markdown",
      "id": "be154018",
      "metadata": {
        "id": "be154018"
      },
      "source": [
        "#### Writeup Answer to Problem C: \n",
        "How did you choose the random value from method 3)? \n",
        "How do the distributions look like after you implement the three filling methods? (Compare them)\n"
      ]
    },
    {
      "cell_type": "markdown",
      "source": [
        "I chose the random values to be in the range [min_value, max_value] where these values are the minimum and the maximum values in the column respectively. \n",
        "The distributions are plotted above. Since all distributions have the same values except on 4 indices, they look largely the same. Furthermore, since the mean and the median values are very similar, the difference between their histogram plots can only be observed if we use a large number of bins in the plot method. The random values differs in only the 4 indices where it takes random values from the above specified range. Finally, only the original distribution has negative values."
      ],
      "metadata": {
        "id": "yYEWbrOlQYpR"
      },
      "id": "yYEWbrOlQYpR"
    },
    {
      "cell_type": "code",
      "execution_count": null,
      "id": "d8eb180e",
      "metadata": {
        "id": "d8eb180e",
        "colab": {
          "base_uri": "https://localhost:8080/"
        },
        "outputId": "cf55ffdc-d0f3-45d2-c765-6879aaaf5647"
      },
      "outputs": [
        {
          "output_type": "stream",
          "name": "stdout",
          "text": [
            "The p-values of the distributions are:\n",
            "Mean -> 0.6080116830501949\n",
            "Median -> 0.5650386903299487\n",
            "Random -> 0.8089760085929232\n"
          ]
        }
      ],
      "source": [
        "## Case 1 Problem D code and graph\n",
        "population_distribution = np.random.normal(3.85, 1.25, len(original_data))\n",
        "_, p_value_median = ttest_ind(data_median, population_distribution)\n",
        "_, p_value_mean = ttest_ind(data_mean, population_distribution)\n",
        "_, p_value_random = ttest_ind(data_random, population_distribution)\n",
        "\n",
        "print(f\"The p-values of the distributions are:\\nMean -> {p_value_mean}\\nMedian -> {p_value_median}\\nRandom -> {p_value_random}\")"
      ]
    },
    {
      "cell_type": "markdown",
      "id": "a8b633b9",
      "metadata": {
        "id": "a8b633b9"
      },
      "source": [
        "#### Answer to Problem D: \n",
        "Report the three p-values. Which one of the filling methods reconstruct this feature to be closest to the research distribution? Why do you think this is the case?\n"
      ]
    },
    {
      "cell_type": "markdown",
      "source": [
        "The three p-values are: \n",
        "Mean -> 0.7490699892562133 \n",
        "Median -> 0.7969721432481117\n",
        "Random -> 0.3676494078512619 \n",
        "\n",
        "Filling with median seems to most closely resemble the research distribution. I belive this is the case because it's p-value is the highest amongst the three, indicating that there is a higher chance of the median-filled distribution belonging to the same population as the research distribution. Besides the p-value, it also makes sense. The randomly filled distribution has a low chance of being similar to the research data because of the randomness in the values. Furthermore, due to the presence of outliers, the mean filled data might not be the most accuracte representation. Since mean are more sensitive to outliers than median, I belive median filled data is the best distribution among the three."
      ],
      "metadata": {
        "id": "CKJjzuX6OzlE"
      },
      "id": "CKJjzuX6OzlE"
    },
    {
      "cell_type": "markdown",
      "id": "303a518b",
      "metadata": {
        "id": "303a518b"
      },
      "source": [
        "### Case 2: Perceived average screen time"
      ]
    },
    {
      "cell_type": "code",
      "execution_count": null,
      "id": "21571972",
      "metadata": {
        "id": "21571972",
        "colab": {
          "base_uri": "https://localhost:8080/"
        },
        "outputId": "8abfd9ae-7ddb-4ac9-87f8-b387dae892bf"
      },
      "outputs": [
        {
          "output_type": "stream",
          "name": "stdout",
          "text": [
            "The data type of this column: float64\n",
            "The number of null values: 0\n",
            "The number of negative values: 7\n",
            "The negative values: 3    -1.0\n",
            "15   -1.0\n",
            "24   -1.0\n",
            "28   -1.0\n",
            "42   -1.0\n",
            "44   -1.0\n",
            "46   -1.0\n",
            "Name: perceived_average_screen_time, dtype: float64\n"
          ]
        }
      ],
      "source": [
        "## Case 2 Problem A code and histogram\n",
        "perceived_time = individual_data['perceived_average_screen_time']\n",
        "print(\"The data type of this column:\", perceived_time.dtypes)\n",
        "print(\"The number of null values:\", pd.isnull(perceived_time).sum())\n",
        "print(\"The number of negative values:\", (perceived_time < 0).sum())\n",
        "print(\"The negative values:\", perceived_time[perceived_time <= 0])"
      ]
    },
    {
      "cell_type": "code",
      "source": [
        "non_missing_perceived_time = perceived_time[perceived_time >= 0]\n",
        "plt.hist(non_missing_perceived_time, bins=53)\n",
        "plt.title('Histogram of non-missing values')\n",
        "plt.xlabel('perceived_screen_time')\n",
        "plt.ylabel('frequency')\n",
        "plt.show()"
      ],
      "metadata": {
        "colab": {
          "base_uri": "https://localhost:8080/",
          "height": 296
        },
        "id": "haB91abjdRlM",
        "outputId": "58046504-d4c1-4a64-8ea8-34b25ef36f5f"
      },
      "id": "haB91abjdRlM",
      "execution_count": null,
      "outputs": [
        {
          "output_type": "display_data",
          "data": {
            "text/plain": [
              "<Figure size 432x288 with 1 Axes>"
            ],
            "image/png": "[encoded data removed]"
          },
          "metadata": {
            "needs_background": "light"
          }
        }
      ]
    },
    {
      "cell_type": "code",
      "source": [
        "q1 = non_missing_perceived_time.quantile(0.25)\n",
        "q3 = non_missing_perceived_time.quantile(0.75)\n",
        "iqr = q3 - q1\n",
        "print(\"The inter quartile range is:\", iqr)\n",
        "\n",
        "lower_bound = q1 - (1.5 * iqr)\n",
        "upper_bound = q3 + (1.5 * iqr)\n",
        "outliers = non_missing_perceived_time[(non_missing_perceived_time > upper_bound) | (non_missing_perceived_time < lower_bound)]\n",
        "print(\"Number of outliers in the column:\", len(outliers))\n",
        "\n",
        "# to check skewness, we use pandas skew function\n",
        "skewness_value = non_missing_perceived_time.skew()\n",
        "print(\"The skewness value is:\", skewness_value)"
      ],
      "metadata": {
        "colab": {
          "base_uri": "https://localhost:8080/"
        },
        "id": "61XBJogbdUZY",
        "outputId": "22491286-a1e5-4a25-981d-7ac692343670"
      },
      "id": "61XBJogbdUZY",
      "execution_count": null,
      "outputs": [
        {
          "output_type": "stream",
          "name": "stdout",
          "text": [
            "The inter quartile range is: 1.1\n",
            "Number of outliers in the column: 2\n",
            "The skewness value is: -0.21439363473731404\n"
          ]
        }
      ]
    },
    {
      "cell_type": "markdown",
      "id": "d16e402a",
      "metadata": {
        "id": "d16e402a"
      },
      "source": [
        "#### Writeup Answer to Problem B: \n",
        " Does it have outliers?If so, how many? \n",
        " Is it skewed? If so, is it left skewed or right skewed? What’s the skewness? \n"
      ]
    },
    {
      "cell_type": "markdown",
      "source": [
        "Yes, the column does have outliers. It has 2 outliers. The column is left skewed with a skewness value of -0.21439363473731404."
      ],
      "metadata": {
        "id": "e8wnCsJidlhi"
      },
      "id": "e8wnCsJidlhi"
    },
    {
      "cell_type": "code",
      "execution_count": null,
      "id": "b2c9df5d",
      "metadata": {
        "id": "b2c9df5d",
        "colab": {
          "base_uri": "https://localhost:8080/"
        },
        "outputId": "f3d75174-8cbc-49cd-e2b8-953bf8b7b7fe"
      },
      "outputs": [
        {
          "output_type": "stream",
          "name": "stdout",
          "text": [
            "The number of intense users: 4\n"
          ]
        }
      ],
      "source": [
        "## Case 2 Problem B code\n",
        "# Let’s define an intense phone user as someone whose average screen time is at least one standard deviation \n",
        "# larger than the mean screen usage time. How many of them are intense phone users? \n",
        "# (Note: Do not remove outliers) (Note: think of which data should be using actual_average_screen_time or perceived_average_screen_time) \n",
        "\n",
        "mean_screen_usage_time = non_missing_values.mean()\n",
        "stdev = non_missing_values.std()\n",
        "print(\"The number of intense users:\", (non_missing_values >= mean_screen_usage_time + stdev).sum())"
      ]
    },
    {
      "cell_type": "markdown",
      "id": "5ec6e026",
      "metadata": {
        "id": "5ec6e026"
      },
      "source": [
        "How many of them are intense phone users?"
      ]
    },
    {
      "cell_type": "markdown",
      "source": [
        "There are 4 intense users."
      ],
      "metadata": {
        "id": "dVJOVg5qeooW"
      },
      "id": "dVJOVg5qeooW"
    },
    {
      "cell_type": "code",
      "execution_count": null,
      "id": "26e9758b",
      "metadata": {
        "id": "26e9758b",
        "colab": {
          "base_uri": "https://localhost:8080/"
        },
        "outputId": "29f3ff34-c34e-4824-e1f8-89af395427bb"
      },
      "outputs": [
        {
          "output_type": "stream",
          "name": "stdout",
          "text": [
            "The pvalue is: 1.0\n"
          ]
        }
      ],
      "source": [
        "## Case 2 Problem C code and graph\n",
        "# Create two binomial distributions of A) missing perceived_average_screen_time and B) intense phone users. In another word, generate a boolean array for A) and B). \n",
        "# Perform a Chi-square test on these two distributions. What is the p-value? Do you think they are correlated? What does this mean? \n",
        "# Do you think this feature is MAR or MNAR? \n",
        "# (Note and hint: If the user’s actual screen time is missing, you should not count that user as either intensive or non-intensive, you should filter out those users)\n",
        "\n",
        "missing = (perceived_time == -1)\n",
        "intense = (original_data >= mean_screen_usage_time + stdev)\n",
        "contingency_table = [[0, 0], [0, 0]]\n",
        "\n",
        "for i in range(len(missing)):\n",
        "  for j in range(len(intense)):\n",
        "    if missing[i] and intense[j]:\n",
        "        contingency_table[0][0] += 1\n",
        "    elif missing[i] and not intense[j]:\n",
        "        contingency_table[0][1] += 1\n",
        "    elif not missing[i] and intense[j]:\n",
        "        contingency_table[1][0] += 1\n",
        "    else:\n",
        "        contingency_table[1][1] += 1\n",
        "\n",
        "_, pvalue, _, _ = chi2_contingency(contingency_table)\n",
        "print(\"The pvalue is:\", pvalue)"
      ]
    },
    {
      "cell_type": "markdown",
      "id": "497b1f4a",
      "metadata": {
        "id": "497b1f4a"
      },
      "source": [
        "What is the p-value? Do you think they are correlated? What does this mean? Do you think this feature is MAR or MNAR? "
      ]
    },
    {
      "cell_type": "markdown",
      "source": [
        "The p-value is 1.0. This implies that we cannot reject the hypothesis that there is no significant difference between the two distributions. Although the chi square test is not suitable to test for correlatedness, it seems safe to assume both are correlated. This means that for the users for whom we don't have the perceived screen usage times are very likely to be intense users. This conclusion implies that this feature is therefore MNAR because it can be argued that the intense users would be unwilling to report their perceived screen time because they fear it is too high."
      ],
      "metadata": {
        "id": "82HczySqlgvD"
      },
      "id": "82HczySqlgvD"
    },
    {
      "cell_type": "code",
      "source": [
        "sensory.keys()"
      ],
      "metadata": {
        "colab": {
          "base_uri": "https://localhost:8080/"
        },
        "id": "vWrIG9rzpyi4",
        "outputId": "81be9c2a-865e-48fc-cbc7-f09b9782c5b7"
      },
      "id": "vWrIG9rzpyi4",
      "execution_count": null,
      "outputs": [
        {
          "output_type": "execute_result",
          "data": {
            "text/plain": [
              "dict_keys(['3600D531-0C55-44A7-AE95-A7A38519464E', '59EEFAE0-DEB0-4FFF-9250-54D2A03D0CF2', 'CF722AA9-2533-4E51-9FEB-9EAC84EE9AAC', '5152A2DF-FAF3-4BA8-9CA9-E66B32671A53', '136562B6-95B2-483D-88DC-065F28409FD2', 'BE3CA5A6-A561-4BBD-B7C9-5DF6805400FC', '81536B0A-8DBF-4D8A-AC24-9543E2E4C8E0', '7D9BB102-A612-4E2A-8E22-3159752F55D8', '0A986513-7828-4D53-AA1F-E02D6DF9561B', 'FDAA70A1-42A3-4E3F-9AE3-3FDA412E03BF', '9759096F-1119-4E19-A0AD-6F16989C7E1C', '00EABED2-271D-49D8-B599-1D4A09240601', '0BFC35E2-4817-4865-BFA7-764742302A2D', '1538C99F-BA1E-4EFB-A949-6C7C47701B20', '0E6184E1-90C0-48EE-B25A-F1ECB7B9714E', '1155FF54-63D3-4AB2-9863-8385D0BD0A13', '99B204C0-DD5C-4BB7-83E8-A37281B8D769', '4FC32141-E888-4BFF-8804-12559A491D8C', '78A91A4E-4A51-4065-BDA7-94755F0BB3BB', '24E40C4C-A349-4F9F-93AB-01D00FB994AF', '806289BC-AD52-4CC1-806C-0CDB14D65EB6', 'ECECC2AB-D32F-4F90-B74C-E12A1C69BBE2', '2C32C23E-E30C-498A-8DD2-0EFB9150A02E', '11B5EC4D-4133-4289-B475-4E737182A406', '9DC38D04-E82E-4F29-AB52-B476535226F2', 'A5CDF89D-02A2-4EC1-89F8-F534FDABDD96', 'E65577C1-8D5D-4F70-AF23-B3ADB9D3DBA3', '098A72A5-E3E5-4F54-A152-BBDA0DF7B694', '61359772-D8D8-480D-B623-7C636EAD0C81', 'CDA3BBF7-6631-45E8-85BA-EEB416B32A3C', '4E98F91F-4654-42EF-B908-A3389443F2E7', '40E170A7-607B-4578-AF04-F021C3B0384A', '5EF64122-B513-46AE-BCF1-E62AAC285D2C', '7CE37510-56D0-4120-A1CF-0E23351428D2', '74B86067-5D4B-43CF-82CF-341B76BEA0F4', '96A358A0-FFF2-4239-B93E-C7425B901B47', '59818CD2-24D7-4D32-B133-24C2FE3801E5', '481F4DD2-7689-43B9-A2AA-C8772227162B', '1DBB0F6F-1F81-4A50-9DF4-CD62ACFA4842', '86A4F379-B305-473D-9D83-FC7D800180EF', 'BEF6C611-50DA-4971-A040-87FB979F3FC1', 'A7599A50-24AE-46A6-8EA6-2576F1011D81', '8023FE1A-D3B0-4E2C-A57A-9321B7FC755F', 'C48CE857-A0DD-4DDB-BEA5-3A25449B2153', '33A85C34-CFE4-4732-9E73-0A7AC861B27A', '5119D0F8-FCA8-4184-A4EB-19421A40DE0D', '665514DE-49DC-421F-8DCB-145D0B2609AD', '27E04243-B138-4F40-A164-F40B60165CF3', 'D7D20E2E-FC78-405D-B346-DBD3FD8FC92B', 'A76A5AF5-5A93-4CF2-A16E-62353BB70E8A', 'CCAF77F0-FABB-4F2F-9E24-D56AD0C5A82F', 'A5A30F76-581E-4757-97A2-957553A2C6AA', 'B09E373F-8A54-44C8-895B-0039390B859F', '83CF687B-7CEC-434B-9FE8-00C3D5799BE6', 'B9724848-C7E2-45F4-9B3F-A1F38D864495', 'B7F9D634-263E-4A97-87F9-6FFB4DDCB36C', '797D145F-3858-4A7F-A7C2-A4EB721E133C', '61976C24-1C50-4355-9C49-AAE44A7D09F6', 'F50235E0-DD67-4F2A-B00B-1F31ADA998B9', 'CA820D43-E5E2-42EF-9798-BE56F776370B'])"
            ]
          },
          "metadata": {},
          "execution_count": 203
        }
      ]
    },
    {
      "cell_type": "code",
      "source": [
        "sensory['00EABED2-271D-49D8-B599-1D4A09240601']"
      ],
      "metadata": {
        "colab": {
          "base_uri": "https://localhost:8080/",
          "height": 488
        },
        "id": "nl64MFfltHXL",
        "outputId": "2c06d2cd-9bc5-46da-cd09-e1bfc7430798"
      },
      "id": "nl64MFfltHXL",
      "execution_count": null,
      "outputs": [
        {
          "output_type": "execute_result",
          "data": {
            "text/plain": [
              "      location:raw_latitude  location:raw_longitude  raw_acc:3d:mean_x  \\\n",
              "0                 32.882408             -117.234661           0.002331   \n",
              "1                 32.882466             -117.234577           0.003557   \n",
              "2                 32.882466             -117.234563           0.004180   \n",
              "3                 32.882470             -117.234562           0.004179   \n",
              "4                 32.882422             -117.234651          -0.008383   \n",
              "...                     ...                     ...                ...   \n",
              "2282              32.882493             -117.234587           0.004934   \n",
              "2283              32.882497             -117.234620           0.007210   \n",
              "2284              32.882488             -117.234583           0.009963   \n",
              "2285              32.882493             -117.234592           0.009740   \n",
              "2286              32.882490             -117.234586           0.010470   \n",
              "\n",
              "      raw_acc:3d:mean_y  raw_acc:3d:mean_z  discrete:app_state:is_active  \\\n",
              "0              0.004614          -0.996790                           0.0   \n",
              "1              0.005495          -0.996832                           1.0   \n",
              "2              0.005776          -0.996785                           1.0   \n",
              "3              0.005551          -0.996836                           1.0   \n",
              "4             -0.000009          -0.994184                           0.0   \n",
              "...                 ...                ...                           ...   \n",
              "2282           0.022278          -1.001781                           1.0   \n",
              "2283          -0.008207          -0.996744                           1.0   \n",
              "2284          -0.208783          -0.884378                           1.0   \n",
              "2285          -0.003631          -1.002408                           1.0   \n",
              "2286          -0.001269          -1.002231                           0.0   \n",
              "\n",
              "      discrete:app_state:is_inactive  discrete:app_state:is_background  \\\n",
              "0                                1.0                               0.0   \n",
              "1                                0.0                               0.0   \n",
              "2                                0.0                               0.0   \n",
              "3                                0.0                               0.0   \n",
              "4                                1.0                               0.0   \n",
              "...                              ...                               ...   \n",
              "2282                             0.0                               0.0   \n",
              "2283                             0.0                               0.0   \n",
              "2284                             0.0                               0.0   \n",
              "2285                             0.0                               0.0   \n",
              "2286                             0.0                               1.0   \n",
              "\n",
              "      discrete:app_state:missing  lf_measurements:battery_level  \n",
              "0                            0.0                           0.46  \n",
              "1                            0.0                           0.46  \n",
              "2                            0.0                           0.46  \n",
              "3                            0.0                           0.46  \n",
              "4                            0.0                           0.47  \n",
              "...                          ...                            ...  \n",
              "2282                         0.0                           0.83  \n",
              "2283                         0.0                           0.83  \n",
              "2284                         0.0                           0.83  \n",
              "2285                         0.0                           0.83  \n",
              "2286                         0.0                           0.82  \n",
              "\n",
              "[2287 rows x 10 columns]"
            ],
            "text/html": [
              "\n",
              "  <div id=\"df-eb32d3c0-04af-4f51-b5fd-75c21b655faf\">\n",
              "    <div class=\"colab-df-container\">\n",
              "      <div>\n",
              "<style scoped>\n",
              "    .dataframe tbody tr th:only-of-type {\n",
              "        vertical-align: middle;\n",
              "    }\n",
              "\n",
              "    .dataframe tbody tr th {\n",
              "        vertical-align: top;\n",
              "    }\n",
              "\n",
              "    .dataframe thead th {\n",
              "        text-align: right;\n",
              "    }\n",
              "</style>\n",
              "<table border=\"1\" class=\"dataframe\">\n",
              "  <thead>\n",
              "    <tr style=\"text-align: right;\">\n",
              "      <th></th>\n",
              "      <th>location:raw_latitude</th>\n",
              "      <th>location:raw_longitude</th>\n",
              "      <th>raw_acc:3d:mean_x</th>\n",
              "      <th>raw_acc:3d:mean_y</th>\n",
              "      <th>raw_acc:3d:mean_z</th>\n",
              "      <th>discrete:app_state:is_active</th>\n",
              "      <th>discrete:app_state:is_inactive</th>\n",
              "      <th>discrete:app_state:is_background</th>\n",
              "      <th>discrete:app_state:missing</th>\n",
              "      <th>lf_measurements:battery_level</th>\n",
              "    </tr>\n",
              "  </thead>\n",
              "  <tbody>\n",
              "    <tr>\n",
              "      <th>0</th>\n",
              "      <td>32.882408</td>\n",
              "      <td>-117.234661</td>\n",
              "      <td>0.002331</td>\n",
              "      <td>0.004614</td>\n",
              "      <td>-0.996790</td>\n",
              "      <td>0.0</td>\n",
              "      <td>1.0</td>\n",
              "      <td>0.0</td>\n",
              "      <td>0.0</td>\n",
              "      <td>0.46</td>\n",
              "    </tr>\n",
              "    <tr>\n",
              "      <th>1</th>\n",
              "      <td>32.882466</td>\n",
              "      <td>-117.234577</td>\n",
              "      <td>0.003557</td>\n",
              "      <td>0.005495</td>\n",
              "      <td>-0.996832</td>\n",
              "      <td>1.0</td>\n",
              "      <td>0.0</td>\n",
              "      <td>0.0</td>\n",
              "      <td>0.0</td>\n",
              "      <td>0.46</td>\n",
              "    </tr>\n",
              "    <tr>\n",
              "      <th>2</th>\n",
              "      <td>32.882466</td>\n",
              "      <td>-117.234563</td>\n",
              "      <td>0.004180</td>\n",
              "      <td>0.005776</td>\n",
              "      <td>-0.996785</td>\n",
              "      <td>1.0</td>\n",
              "      <td>0.0</td>\n",
              "      <td>0.0</td>\n",
              "      <td>0.0</td>\n",
              "      <td>0.46</td>\n",
              "    </tr>\n",
              "    <tr>\n",
              "      <th>3</th>\n",
              "      <td>32.882470</td>\n",
              "      <td>-117.234562</td>\n",
              "      <td>0.004179</td>\n",
              "      <td>0.005551</td>\n",
              "      <td>-0.996836</td>\n",
              "      <td>1.0</td>\n",
              "      <td>0.0</td>\n",
              "      <td>0.0</td>\n",
              "      <td>0.0</td>\n",
              "      <td>0.46</td>\n",
              "    </tr>\n",
              "    <tr>\n",
              "      <th>4</th>\n",
              "      <td>32.882422</td>\n",
              "      <td>-117.234651</td>\n",
              "      <td>-0.008383</td>\n",
              "      <td>-0.000009</td>\n",
              "      <td>-0.994184</td>\n",
              "      <td>0.0</td>\n",
              "      <td>1.0</td>\n",
              "      <td>0.0</td>\n",
              "      <td>0.0</td>\n",
              "      <td>0.47</td>\n",
              "    </tr>\n",
              "    <tr>\n",
              "      <th>...</th>\n",
              "      <td>...</td>\n",
              "      <td>...</td>\n",
              "      <td>...</td>\n",
              "      <td>...</td>\n",
              "      <td>...</td>\n",
              "      <td>...</td>\n",
              "      <td>...</td>\n",
              "      <td>...</td>\n",
              "      <td>...</td>\n",
              "      <td>...</td>\n",
              "    </tr>\n",
              "    <tr>\n",
              "      <th>2282</th>\n",
              "      <td>32.882493</td>\n",
              "      <td>-117.234587</td>\n",
              "      <td>0.004934</td>\n",
              "      <td>0.022278</td>\n",
              "      <td>-1.001781</td>\n",
              "      <td>1.0</td>\n",
              "      <td>0.0</td>\n",
              "      <td>0.0</td>\n",
              "      <td>0.0</td>\n",
              "      <td>0.83</td>\n",
              "    </tr>\n",
              "    <tr>\n",
              "      <th>2283</th>\n",
              "      <td>32.882497</td>\n",
              "      <td>-117.234620</td>\n",
              "      <td>0.007210</td>\n",
              "      <td>-0.008207</td>\n",
              "      <td>-0.996744</td>\n",
              "      <td>1.0</td>\n",
              "      <td>0.0</td>\n",
              "      <td>0.0</td>\n",
              "      <td>0.0</td>\n",
              "      <td>0.83</td>\n",
              "    </tr>\n",
              "    <tr>\n",
              "      <th>2284</th>\n",
              "      <td>32.882488</td>\n",
              "      <td>-117.234583</td>\n",
              "      <td>0.009963</td>\n",
              "      <td>-0.208783</td>\n",
              "      <td>-0.884378</td>\n",
              "      <td>1.0</td>\n",
              "      <td>0.0</td>\n",
              "      <td>0.0</td>\n",
              "      <td>0.0</td>\n",
              "      <td>0.83</td>\n",
              "    </tr>\n",
              "    <tr>\n",
              "      <th>2285</th>\n",
              "      <td>32.882493</td>\n",
              "      <td>-117.234592</td>\n",
              "      <td>0.009740</td>\n",
              "      <td>-0.003631</td>\n",
              "      <td>-1.002408</td>\n",
              "      <td>1.0</td>\n",
              "      <td>0.0</td>\n",
              "      <td>0.0</td>\n",
              "      <td>0.0</td>\n",
              "      <td>0.83</td>\n",
              "    </tr>\n",
              "    <tr>\n",
              "      <th>2286</th>\n",
              "      <td>32.882490</td>\n",
              "      <td>-117.234586</td>\n",
              "      <td>0.010470</td>\n",
              "      <td>-0.001269</td>\n",
              "      <td>-1.002231</td>\n",
              "      <td>0.0</td>\n",
              "      <td>0.0</td>\n",
              "      <td>1.0</td>\n",
              "      <td>0.0</td>\n",
              "      <td>0.82</td>\n",
              "    </tr>\n",
              "  </tbody>\n",
              "</table>\n",
              "<p>2287 rows × 10 columns</p>\n",
              "</div>\n",
              "      <button class=\"colab-df-convert\" onclick=\"convertToInteractive('df-eb32d3c0-04af-4f51-b5fd-75c21b655faf')\"\n",
              "              title=\"Convert this dataframe to an interactive table.\"\n",
              "              style=\"display:none;\">\n",
              "        \n",
              "  <svg xmlns=\"http://www.w3.org/2000/svg\" height=\"24px\"viewBox=\"0 0 24 24\"\n",
              "       width=\"24px\">\n",
              "    <path d=\"M0 0h24v24H0V0z\" fill=\"none\"/>\n",
              "    <path d=\"M18.56 5.44l.94 2.06.94-2.06 2.06-.94-2.06-.94-.94-2.06-.94 2.06-2.06.94zm-11 1L8.5 8.5l.94-2.06 2.06-.94-2.06-.94L8.5 2.5l-.94 2.06-2.06.94zm10 10l.94 2.06.94-2.06 2.06-.94-2.06-.94-.94-2.06-.94 2.06-2.06.94z\"/><path d=\"M17.41 7.96l-1.37-1.37c-.4-.4-.92-.59-1.43-.59-.52 0-1.04.2-1.43.59L10.3 9.45l-7.72 7.72c-.78.78-.78 2.05 0 2.83L4 21.41c.39.39.9.59 1.41.59.51 0 1.02-.2 1.41-.59l7.78-7.78 2.81-2.81c.8-.78.8-2.07 0-2.86zM5.41 20L4 18.59l7.72-7.72 1.47 1.35L5.41 20z\"/>\n",
              "  </svg>\n",
              "      </button>\n",
              "      \n",
              "  <style>\n",
              "    .colab-df-container {\n",
              "      display:flex;\n",
              "      flex-wrap:wrap;\n",
              "      gap: 12px;\n",
              "    }\n",
              "\n",
              "    .colab-df-convert {\n",
              "      background-color: #E8F0FE;\n",
              "      border: none;\n",
              "      border-radius: 50%;\n",
              "      cursor: pointer;\n",
              "      display: none;\n",
              "      fill: #1967D2;\n",
              "      height: 32px;\n",
              "      padding: 0 0 0 0;\n",
              "      width: 32px;\n",
              "    }\n",
              "\n",
              "    .colab-df-convert:hover {\n",
              "      background-color: #E2EBFA;\n",
              "      box-shadow: 0px 1px 2px rgba(60, 64, 67, 0.3), 0px 1px 3px 1px rgba(60, 64, 67, 0.15);\n",
              "      fill: #174EA6;\n",
              "    }\n",
              "\n",
              "    [theme=dark] .colab-df-convert {\n",
              "      background-color: #3B4455;\n",
              "      fill: #D2E3FC;\n",
              "    }\n",
              "\n",
              "    [theme=dark] .colab-df-convert:hover {\n",
              "      background-color: #434B5C;\n",
              "      box-shadow: 0px 1px 3px 1px rgba(0, 0, 0, 0.15);\n",
              "      filter: drop-shadow(0px 1px 2px rgba(0, 0, 0, 0.3));\n",
              "      fill: #FFFFFF;\n",
              "    }\n",
              "  </style>\n",
              "\n",
              "      <script>\n",
              "        const buttonEl =\n",
              "          document.querySelector('#df-eb32d3c0-04af-4f51-b5fd-75c21b655faf button.colab-df-convert');\n",
              "        buttonEl.style.display =\n",
              "          google.colab.kernel.accessAllowed ? 'block' : 'none';\n",
              "\n",
              "        async function convertToInteractive(key) {\n",
              "          const element = document.querySelector('#df-eb32d3c0-04af-4f51-b5fd-75c21b655faf');\n",
              "          const dataTable =\n",
              "            await google.colab.kernel.invokeFunction('convertToInteractive',\n",
              "                                                     [key], {});\n",
              "          if (!dataTable) return;\n",
              "\n",
              "          const docLinkHtml = 'Like what you see? Visit the ' +\n",
              "            '<a target=\"_blank\" href=https://colab.research.google.com/notebooks/data_table.ipynb>data table notebook</a>'\n",
              "            + ' to learn more about interactive tables.';\n",
              "          element.innerHTML = '';\n",
              "          dataTable['output_type'] = 'display_data';\n",
              "          await google.colab.output.renderOutput(dataTable, element);\n",
              "          const docLink = document.createElement('div');\n",
              "          docLink.innerHTML = docLinkHtml;\n",
              "          element.appendChild(docLink);\n",
              "        }\n",
              "      </script>\n",
              "    </div>\n",
              "  </div>\n",
              "  "
            ]
          },
          "metadata": {},
          "execution_count": 204
        }
      ]
    },
    {
      "cell_type": "markdown",
      "id": "ad51b7e8",
      "metadata": {
        "id": "ad51b7e8"
      },
      "source": [
        "### Case 3: Location"
      ]
    },
    {
      "cell_type": "code",
      "execution_count": null,
      "id": "9f197917",
      "metadata": {
        "id": "9f197917",
        "colab": {
          "base_uri": "https://localhost:8080/"
        },
        "outputId": "bb8e6055-0f61-4e73-bf0b-cda61bd39fb1"
      },
      "outputs": [
        {
          "output_type": "stream",
          "name": "stdout",
          "text": [
            "For user with id 098A72A5-E3E5-4F54-A152-BBDA0DF7B694, we have lost 415 minutes of location data due to turning-off of location service.\n",
            "For user with id CDA3BBF7-6631-45E8-85BA-EEB416B32A3C, we have lost 74 minutes of location data due to turning-off of location service.\n",
            "For user with id 96A358A0-FFF2-4239-B93E-C7425B901B47, we have lost 277 minutes of location data due to turning-off of location service.\n",
            "For user with id B09E373F-8A54-44C8-895B-0039390B859F, we have lost 369 minutes of location data due to turning-off of location service.\n",
            "For user with id B7F9D634-263E-4A97-87F9-6FFB4DDCB36C, we have lost 176 minutes of location data due to turning-off of location service.\n",
            "\n",
            "In total, we have lost 1311 minutes of location data from these users\n"
          ]
        }
      ],
      "source": [
        "## Case 3 Problem A code (graph)\n",
        "low_battery_uuids = {}\n",
        "\n",
        "for uid in sensory.keys():\n",
        "  low_battery_data = sensory[uid][sensory[uid]['lf_measurements:battery_level'] < 0.2]\n",
        "  total_low_battery_records = len(low_battery_data)\n",
        "  if total_low_battery_records > 0:\n",
        "    missing_records = low_battery_data['location:raw_latitude'].isnull().sum()\n",
        "    if missing_records == total_low_battery_records:\n",
        "      low_battery_uuids[uid] = total_low_battery_records\n",
        "  \n",
        "total = 0\n",
        "for id, minutes in low_battery_uuids.items():\n",
        "  total += minutes\n",
        "  print(f\"For user with id {id}, we have lost {minutes} minutes of location data due to turning-off of location service.\")\n",
        "print(f\"\\nIn total, we have lost {total} minutes of location data from these users\")"
      ]
    },
    {
      "cell_type": "markdown",
      "id": "818e75b8",
      "metadata": {
        "id": "818e75b8"
      },
      "source": [
        "explanation of implementation"
      ]
    },
    {
      "cell_type": "markdown",
      "source": [
        "In order to find users who consistently turn location service off whenever their battery goes below 20%, I iterated through the different user ids, and for each id, I used a boolean mask to get the records that were corresponding to a battery level of below 20%. Once I had this set of records, I calculated the number of records that had location:raw_latitude as null by using pandas isnull method. Then, I checked whether this number was equal to the total number of low battery records. If it was then that means that this user does not have any location data for all the minutes that he/she/they had a battery level below 20%. Thus, after doing the same for every user id, I was able to find the set of users and the total minutes their location data was turned off when their battery level was below 20%. The implementation is written above."
      ],
      "metadata": {
        "id": "Z1ezml_cwJC8"
      },
      "id": "Z1ezml_cwJC8"
    },
    {
      "cell_type": "code",
      "execution_count": null,
      "id": "605e94ed",
      "metadata": {
        "id": "605e94ed"
      },
      "outputs": [],
      "source": [
        "## Case 3 Problem B code and graph\n",
        "def calculate_next(data, index):\n",
        "  for i in range(index, len(data)):\n",
        "    if pd.notna(data[i]):\n",
        "      return data[i]\n",
        "  index = 0\n",
        "  for i in range(index, len(data)):\n",
        "    if pd.notna(data[i]):\n",
        "      return data[i]\n",
        "\n",
        "data = sensory['F50235E0-DD67-4F2A-B00B-1F31ADA998B9']\n",
        "\n",
        "fwd_filling = data.copy()\n",
        "bwd_filling = data.copy()\n",
        "linear_filling = data.copy()\n",
        "\n",
        "fwd_filling['location:raw_latitude'].fillna(method='ffill', inplace=True)\n",
        "bwd_filling['location:raw_latitude'].fillna(method='bfill', inplace=True)\n",
        "\n",
        "# for linear filling, we use the mean of the last non-null value and the next non-null value in the dataset\n",
        "last_non_null_value = -1\n",
        "for index, value in enumerate(linear_filling['location:raw_latitude']):\n",
        "  if pd.isna(value):\n",
        "    prev = last_non_null_value\n",
        "    next = calculate_next(linear_filling['location:raw_latitude'], index+1)\n",
        "    linear_filling['location:raw_latitude'][index] = (prev + next) / 2\n",
        "  last_non_null_value = linear_filling['location:raw_latitude'][index]"
      ]
    },
    {
      "cell_type": "code",
      "source": [
        "plt.plot(data['location:raw_latitude'], label='no filling')\n",
        "plt.plot(fwd_filling['location:raw_latitude'], label='forward filling')\n",
        "plt.plot(bwd_filling['location:raw_latitude'], label='backward filling')\n",
        "plt.plot(linear_filling['location:raw_latitude'], label='linear filling')\n",
        "plt.xlabel('Minutes')\n",
        "plt.ylabel('Latitude')\n",
        "plt.legend(loc='upper right')\n",
        "plt.show()"
      ],
      "metadata": {
        "colab": {
          "base_uri": "https://localhost:8080/",
          "height": 279
        },
        "id": "D2HBqFB7DaLa",
        "outputId": "769f7301-38eb-4c25-ad91-895fad70e325"
      },
      "id": "D2HBqFB7DaLa",
      "execution_count": null,
      "outputs": [
        {
          "output_type": "display_data",
          "data": {
            "text/plain": [
              "<Figure size 432x288 with 1 Axes>"
            ],
            "image/png": "[encoded data removed]"
          },
          "metadata": {
            "needs_background": "light"
          }
        }
      ]
    },
    {
      "cell_type": "markdown",
      "id": "7637d770",
      "metadata": {
        "id": "7637d770"
      },
      "source": [
        "Compare the 4 traces. What do you see? If you were to use this dataset for further analysis, which filling method will you choose? \n"
      ]
    },
    {
      "cell_type": "markdown",
      "source": [
        "From the plot above, the 4 traces look almost identical. The original data without any filling has some missing values that are computed in all other three fillings. If I had to choose a dataset for further analysis, I would use the linear filling dataset. That is because it takes into account both the previous and the next non-null values (computes their mean and uses it as value), this is especially useful here since the location data is minute-by-minute, so any missing value can be best represented as some combination of previous and next minute values. "
      ],
      "metadata": {
        "id": "xfmru_XzFDUn"
      },
      "id": "xfmru_XzFDUn"
    },
    {
      "cell_type": "code",
      "source": [],
      "metadata": {
        "id": "QcydGxPEFgJk"
      },
      "id": "QcydGxPEFgJk",
      "execution_count": null,
      "outputs": []
    }
  ],
  "metadata": {
    "kernelspec": {
      "display_name": "Python 3 (ipykernel)",
      "language": "python",
      "name": "python3"
    },
    "language_info": {
      "codemirror_mode": {
        "name": "ipython",
        "version": 3
      },
      "file_extension": ".py",
      "mimetype": "text/x-python",
      "name": "python",
      "nbconvert_exporter": "python",
      "pygments_lexer": "ipython3",
      "version": "3.9.10"
    },
    "colab": {
      "provenance": []
    }
  },
  "nbformat": 4,
  "nbformat_minor": 5
}