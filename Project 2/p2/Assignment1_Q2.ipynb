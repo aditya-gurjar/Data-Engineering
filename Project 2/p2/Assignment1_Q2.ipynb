{
  "cells": [
    {
      "cell_type": "markdown",
      "id": "391ea643",
      "metadata": {
        "id": "391ea643"
      },
      "source": [
        "## CS/INFO 5304 Assignment 1: Data Preparation <br />\n"
      ]
    },
    {
      "cell_type": "code",
      "source": [
        "from google.colab import files\n",
        "files.upload()"
      ],
      "metadata": {
        "colab": {
          "base_uri": "https://localhost:8080/",
          "height": 73
        },
        "id": "Yuh9nd8Q8tFk",
        "outputId": "fa658c58-f00f-4cc5-a326-f624e639e157"
      },
      "id": "Yuh9nd8Q8tFk",
      "execution_count": null,
      "outputs": [
        {
          "output_type": "display_data",
          "data": {
            "text/plain": [
              "<IPython.core.display.HTML object>"
            ],
            "text/html": [
              "\n",
              "     <input type=\"file\" id=\"files-3b94b957-2164-4dac-9829-dc6c06596785\" name=\"files[]\" multiple disabled\n",
              "        style=\"border:none\" />\n",
              "     <output id=\"result-3b94b957-2164-4dac-9829-dc6c06596785\">\n",
              "      Upload widget is only available when the cell has been executed in the\n",
              "      current browser session. Please rerun this cell to enable.\n",
              "      </output>\n",
              "      <script>// Copyright 2017 Google LLC\n",
              "//\n",
              "// Licensed under the Apache License, Version 2.0 (the \"License\");\n",
              "// you may not use this file except in compliance with the License.\n",
              "// You may obtain a copy of the License at\n",
              "//\n",
              "//      http://www.apache.org/licenses/LICENSE-2.0\n",
              "//\n",
              "// Unless required by applicable law or agreed to in writing, software\n",
              "// distributed under the License is distributed on an \"AS IS\" BASIS,\n",
              "// WITHOUT WARRANTIES OR CONDITIONS OF ANY KIND, either express or implied.\n",
              "// See the License for the specific language governing permissions and\n",
              "// limitations under the License.\n",
              "\n",
              "/**\n",
              " * @fileoverview Helpers for google.colab Python module.\n",
              " */\n",
              "(function(scope) {\n",
              "function span(text, styleAttributes = {}) {\n",
              "  const element = document.createElement('span');\n",
              "  element.textContent = text;\n",
              "  for (const key of Object.keys(styleAttributes)) {\n",
              "    element.style[key] = styleAttributes[key];\n",
              "  }\n",
              "  return element;\n",
              "}\n",
              "\n",
              "// Max number of bytes which will be uploaded at a time.\n",
              "const MAX_PAYLOAD_SIZE = 100 * 1024;\n",
              "\n",
              "function _uploadFiles(inputId, outputId) {\n",
              "  const steps = uploadFilesStep(inputId, outputId);\n",
              "  const outputElement = document.getElementById(outputId);\n",
              "  // Cache steps on the outputElement to make it available for the next call\n",
              "  // to uploadFilesContinue from Python.\n",
              "  outputElement.steps = steps;\n",
              "\n",
              "  return _uploadFilesContinue(outputId);\n",
              "}\n",
              "\n",
              "// This is roughly an async generator (not supported in the browser yet),\n",
              "// where there are multiple asynchronous steps and the Python side is going\n",
              "// to poll for completion of each step.\n",
              "// This uses a Promise to block the python side on completion of each step,\n",
              "// then passes the result of the previous step as the input to the next step.\n",
              "function _uploadFilesContinue(outputId) {\n",
              "  const outputElement = document.getElementById(outputId);\n",
              "  const steps = outputElement.steps;\n",
              "\n",
              "  const next = steps.next(outputElement.lastPromiseValue);\n",
              "  return Promise.resolve(next.value.promise).then((value) => {\n",
              "    // Cache the last promise value to make it available to the next\n",
              "    // step of the generator.\n",
              "    outputElement.lastPromiseValue = value;\n",
              "    return next.value.response;\n",
              "  });\n",
              "}\n",
              "\n",
              "/**\n",
              " * Generator function which is called between each async step of the upload\n",
              " * process.\n",
              " * @param {string} inputId Element ID of the input file picker element.\n",
              " * @param {string} outputId Element ID of the output display.\n",
              " * @return {!Iterable<!Object>} Iterable of next steps.\n",
              " */\n",
              "function* uploadFilesStep(inputId, outputId) {\n",
              "  const inputElement = document.getElementById(inputId);\n",
              "  inputElement.disabled = false;\n",
              "\n",
              "  const outputElement = document.getElementById(outputId);\n",
              "  outputElement.innerHTML = '';\n",
              "\n",
              "  const pickedPromise = new Promise((resolve) => {\n",
              "    inputElement.addEventListener('change', (e) => {\n",
              "      resolve(e.target.files);\n",
              "    });\n",
              "  });\n",
              "\n",
              "  const cancel = document.createElement('button');\n",
              "  inputElement.parentElement.appendChild(cancel);\n",
              "  cancel.textContent = 'Cancel upload';\n",
              "  const cancelPromise = new Promise((resolve) => {\n",
              "    cancel.onclick = () => {\n",
              "      resolve(null);\n",
              "    };\n",
              "  });\n",
              "\n",
              "  // Wait for the user to pick the files.\n",
              "  const files = yield {\n",
              "    promise: Promise.race([pickedPromise, cancelPromise]),\n",
              "    response: {\n",
              "      action: 'starting',\n",
              "    }\n",
              "  };\n",
              "\n",
              "  cancel.remove();\n",
              "\n",
              "  // Disable the input element since further picks are not allowed.\n",
              "  inputElement.disabled = true;\n",
              "\n",
              "  if (!files) {\n",
              "    return {\n",
              "      response: {\n",
              "        action: 'complete',\n",
              "      }\n",
              "    };\n",
              "  }\n",
              "\n",
              "  for (const file of files) {\n",
              "    const li = document.createElement('li');\n",
              "    li.append(span(file.name, {fontWeight: 'bold'}));\n",
              "    li.append(span(\n",
              "        `(${file.type || 'n/a'}) - ${file.size} bytes, ` +\n",
              "        `last modified: ${\n",
              "            file.lastModifiedDate ? file.lastModifiedDate.toLocaleDateString() :\n",
              "                                    'n/a'} - `));\n",
              "    const percent = span('0% done');\n",
              "    li.appendChild(percent);\n",
              "\n",
              "    outputElement.appendChild(li);\n",
              "\n",
              "    const fileDataPromise = new Promise((resolve) => {\n",
              "      const reader = new FileReader();\n",
              "      reader.onload = (e) => {\n",
              "        resolve(e.target.result);\n",
              "      };\n",
              "      reader.readAsArrayBuffer(file);\n",
              "    });\n",
              "    // Wait for the data to be ready.\n",
              "    let fileData = yield {\n",
              "      promise: fileDataPromise,\n",
              "      response: {\n",
              "        action: 'continue',\n",
              "      }\n",
              "    };\n",
              "\n",
              "    // Use a chunked sending to avoid message size limits. See b/62115660.\n",
              "    let position = 0;\n",
              "    do {\n",
              "      const length = Math.min(fileData.byteLength - position, MAX_PAYLOAD_SIZE);\n",
              "      const chunk = new Uint8Array(fileData, position, length);\n",
              "      position += length;\n",
              "\n",
              "      const base64 = btoa(String.fromCharCode.apply(null, chunk));\n",
              "      yield {\n",
              "        response: {\n",
              "          action: 'append',\n",
              "          file: file.name,\n",
              "          data: base64,\n",
              "        },\n",
              "      };\n",
              "\n",
              "      let percentDone = fileData.byteLength === 0 ?\n",
              "          100 :\n",
              "          Math.round((position / fileData.byteLength) * 100);\n",
              "      percent.textContent = `${percentDone}% done`;\n",
              "\n",
              "    } while (position < fileData.byteLength);\n",
              "  }\n",
              "\n",
              "  // All done.\n",
              "  yield {\n",
              "    response: {\n",
              "      action: 'complete',\n",
              "    }\n",
              "  };\n",
              "}\n",
              "\n",
              "scope.google = scope.google || {};\n",
              "scope.google.colab = scope.google.colab || {};\n",
              "scope.google.colab._files = {\n",
              "  _uploadFiles,\n",
              "  _uploadFilesContinue,\n",
              "};\n",
              "})(self);\n",
              "</script> "
            ]
          },
          "metadata": {}
        },
        {
          "output_type": "stream",
          "name": "stdout",
          "text": [
            "Saving Extrasensory_sensor_data.p to Extrasensory_sensor_data.p\n"
          ]
        }
      ]
    },
    {
      "cell_type": "code",
      "source": [
        "import numpy as np\n",
        "import pandas as pd\n",
        "import matplotlib.pyplot as plt\n",
        "from scipy.stats import ttest_ind, chi2_contingency"
      ],
      "metadata": {
        "id": "mnhylRX8NH3f"
      },
      "id": "mnhylRX8NH3f",
      "execution_count": 126,
      "outputs": []
    },
    {
      "cell_type": "code",
      "execution_count": null,
      "id": "6bb5d403",
      "metadata": {
        "id": "6bb5d403"
      },
      "outputs": [],
      "source": [
        "## Case 1 Problem A code (and optional graph)\n",
        "import pandas as pd\n",
        "individual_data = pd.read_pickle('/content/Extrasensory_individual_data.p', compression='infer', storage_options=None)"
      ]
    },
    {
      "cell_type": "code",
      "source": [
        "sensory = pd.read_pickle('/content/Extrasensory_sensor_data.p')\n",
        "sensory['3600D531-0C55-44A7-AE95-A7A38519464E']"
      ],
      "metadata": {
        "colab": {
          "base_uri": "https://localhost:8080/",
          "height": 488
        },
        "id": "ILcFKxa_84VP",
        "outputId": "d6d76290-3a0c-48bd-ad63-af43d76c2088"
      },
      "id": "ILcFKxa_84VP",
      "execution_count": null,
      "outputs": [
        {
          "output_type": "execute_result",
          "data": {
            "text/plain": [
              "      location:raw_latitude  location:raw_longitude  raw_acc:3d:mean_x  \\\n",
              "0                 32.882483             -117.234601           0.022972   \n",
              "1                 32.882480             -117.234595           0.021403   \n",
              "2                 32.882482             -117.234587           0.021201   \n",
              "3                 32.882482             -117.234587           0.021530   \n",
              "4                 32.882483             -117.234582           0.021198   \n",
              "...                     ...                     ...                ...   \n",
              "5198              32.879546             -117.237555          -0.059023   \n",
              "5199              32.880290             -117.237482          -0.147803   \n",
              "5200              32.880383             -117.236507          -0.104133   \n",
              "5201              32.880894             -117.235780          -0.097580   \n",
              "5202              32.881325             -117.234846          -0.100143   \n",
              "\n",
              "      raw_acc:3d:mean_y  raw_acc:3d:mean_z  discrete:app_state:is_active  \\\n",
              "0             -0.002678          -1.002311                           0.0   \n",
              "1             -0.002784          -1.001535                           0.0   \n",
              "2             -0.004036          -1.000577                           0.0   \n",
              "3             -0.004327          -0.998347                           1.0   \n",
              "4             -0.004350          -1.004198                           0.0   \n",
              "...                 ...                ...                           ...   \n",
              "5198           1.008478          -0.027813                           0.0   \n",
              "5199          -0.061424          -0.851655                           0.0   \n",
              "5200           1.043514          -0.040201                           0.0   \n",
              "5201           1.045405          -0.055839                           0.0   \n",
              "5202           1.057408          -0.063492                           0.0   \n",
              "\n",
              "      discrete:app_state:is_inactive  discrete:app_state:is_background  \\\n",
              "0                                1.0                               0.0   \n",
              "1                                0.0                               1.0   \n",
              "2                                1.0                               0.0   \n",
              "3                                0.0                               0.0   \n",
              "4                                1.0                               0.0   \n",
              "...                              ...                               ...   \n",
              "5198                             0.0                               1.0   \n",
              "5199                             0.0                               1.0   \n",
              "5200                             0.0                               1.0   \n",
              "5201                             0.0                               1.0   \n",
              "5202                             0.0                               1.0   \n",
              "\n",
              "      discrete:app_state:missing  lf_measurements:battery_level  \n",
              "0                            0.0                           0.49  \n",
              "1                            0.0                           0.50  \n",
              "2                            0.0                           0.56  \n",
              "3                            0.0                           0.56  \n",
              "4                            0.0                           0.57  \n",
              "...                          ...                            ...  \n",
              "5198                         0.0                           0.65  \n",
              "5199                         0.0                           0.65  \n",
              "5200                         0.0                           0.64  \n",
              "5201                         0.0                           0.64  \n",
              "5202                         0.0                           0.63  \n",
              "\n",
              "[5203 rows x 10 columns]"
            ],
            "text/html": [
              "\n",
              "  <div id=\"df-dcf1d949-621a-4e4d-bb4f-8a77a6552e72\">\n",
              "    <div class=\"colab-df-container\">\n",
              "      <div>\n",
              "<style scoped>\n",
              "    .dataframe tbody tr th:only-of-type {\n",
              "        vertical-align: middle;\n",
              "    }\n",
              "\n",
              "    .dataframe tbody tr th {\n",
              "        vertical-align: top;\n",
              "    }\n",
              "\n",
              "    .dataframe thead th {\n",
              "        text-align: right;\n",
              "    }\n",
              "</style>\n",
              "<table border=\"1\" class=\"dataframe\">\n",
              "  <thead>\n",
              "    <tr style=\"text-align: right;\">\n",
              "      <th></th>\n",
              "      <th>location:raw_latitude</th>\n",
              "      <th>location:raw_longitude</th>\n",
              "      <th>raw_acc:3d:mean_x</th>\n",
              "      <th>raw_acc:3d:mean_y</th>\n",
              "      <th>raw_acc:3d:mean_z</th>\n",
              "      <th>discrete:app_state:is_active</th>\n",
              "      <th>discrete:app_state:is_inactive</th>\n",
              "      <th>discrete:app_state:is_background</th>\n",
              "      <th>discrete:app_state:missing</th>\n",
              "      <th>lf_measurements:battery_level</th>\n",
              "    </tr>\n",
              "  </thead>\n",
              "  <tbody>\n",
              "    <tr>\n",
              "      <th>0</th>\n",
              "      <td>32.882483</td>\n",
              "      <td>-117.234601</td>\n",
              "      <td>0.022972</td>\n",
              "      <td>-0.002678</td>\n",
              "      <td>-1.002311</td>\n",
              "      <td>0.0</td>\n",
              "      <td>1.0</td>\n",
              "      <td>0.0</td>\n",
              "      <td>0.0</td>\n",
              "      <td>0.49</td>\n",
              "    </tr>\n",
              "    <tr>\n",
              "      <th>1</th>\n",
              "      <td>32.882480</td>\n",
              "      <td>-117.234595</td>\n",
              "      <td>0.021403</td>\n",
              "      <td>-0.002784</td>\n",
              "      <td>-1.001535</td>\n",
              "      <td>0.0</td>\n",
              "      <td>0.0</td>\n",
              "      <td>1.0</td>\n",
              "      <td>0.0</td>\n",
              "      <td>0.50</td>\n",
              "    </tr>\n",
              "    <tr>\n",
              "      <th>2</th>\n",
              "      <td>32.882482</td>\n",
              "      <td>-117.234587</td>\n",
              "      <td>0.021201</td>\n",
              "      <td>-0.004036</td>\n",
              "      <td>-1.000577</td>\n",
              "      <td>0.0</td>\n",
              "      <td>1.0</td>\n",
              "      <td>0.0</td>\n",
              "      <td>0.0</td>\n",
              "      <td>0.56</td>\n",
              "    </tr>\n",
              "    <tr>\n",
              "      <th>3</th>\n",
              "      <td>32.882482</td>\n",
              "      <td>-117.234587</td>\n",
              "      <td>0.021530</td>\n",
              "      <td>-0.004327</td>\n",
              "      <td>-0.998347</td>\n",
              "      <td>1.0</td>\n",
              "      <td>0.0</td>\n",
              "      <td>0.0</td>\n",
              "      <td>0.0</td>\n",
              "      <td>0.56</td>\n",
              "    </tr>\n",
              "    <tr>\n",
              "      <th>4</th>\n",
              "      <td>32.882483</td>\n",
              "      <td>-117.234582</td>\n",
              "      <td>0.021198</td>\n",
              "      <td>-0.004350</td>\n",
              "      <td>-1.004198</td>\n",
              "      <td>0.0</td>\n",
              "      <td>1.0</td>\n",
              "      <td>0.0</td>\n",
              "      <td>0.0</td>\n",
              "      <td>0.57</td>\n",
              "    </tr>\n",
              "    <tr>\n",
              "      <th>...</th>\n",
              "      <td>...</td>\n",
              "      <td>...</td>\n",
              "      <td>...</td>\n",
              "      <td>...</td>\n",
              "      <td>...</td>\n",
              "      <td>...</td>\n",
              "      <td>...</td>\n",
              "      <td>...</td>\n",
              "      <td>...</td>\n",
              "      <td>...</td>\n",
              "    </tr>\n",
              "    <tr>\n",
              "      <th>5198</th>\n",
              "      <td>32.879546</td>\n",
              "      <td>-117.237555</td>\n",
              "      <td>-0.059023</td>\n",
              "      <td>1.008478</td>\n",
              "      <td>-0.027813</td>\n",
              "      <td>0.0</td>\n",
              "      <td>0.0</td>\n",
              "      <td>1.0</td>\n",
              "      <td>0.0</td>\n",
              "      <td>0.65</td>\n",
              "    </tr>\n",
              "    <tr>\n",
              "      <th>5199</th>\n",
              "      <td>32.880290</td>\n",
              "      <td>-117.237482</td>\n",
              "      <td>-0.147803</td>\n",
              "      <td>-0.061424</td>\n",
              "      <td>-0.851655</td>\n",
              "      <td>0.0</td>\n",
              "      <td>0.0</td>\n",
              "      <td>1.0</td>\n",
              "      <td>0.0</td>\n",
              "      <td>0.65</td>\n",
              "    </tr>\n",
              "    <tr>\n",
              "      <th>5200</th>\n",
              "      <td>32.880383</td>\n",
              "      <td>-117.236507</td>\n",
              "      <td>-0.104133</td>\n",
              "      <td>1.043514</td>\n",
              "      <td>-0.040201</td>\n",
              "      <td>0.0</td>\n",
              "      <td>0.0</td>\n",
              "      <td>1.0</td>\n",
              "      <td>0.0</td>\n",
              "      <td>0.64</td>\n",
              "    </tr>\n",
              "    <tr>\n",
              "      <th>5201</th>\n",
              "      <td>32.880894</td>\n",
              "      <td>-117.235780</td>\n",
              "      <td>-0.097580</td>\n",
              "      <td>1.045405</td>\n",
              "      <td>-0.055839</td>\n",
              "      <td>0.0</td>\n",
              "      <td>0.0</td>\n",
              "      <td>1.0</td>\n",
              "      <td>0.0</td>\n",
              "      <td>0.64</td>\n",
              "    </tr>\n",
              "    <tr>\n",
              "      <th>5202</th>\n",
              "      <td>32.881325</td>\n",
              "      <td>-117.234846</td>\n",
              "      <td>-0.100143</td>\n",
              "      <td>1.057408</td>\n",
              "      <td>-0.063492</td>\n",
              "      <td>0.0</td>\n",
              "      <td>0.0</td>\n",
              "      <td>1.0</td>\n",
              "      <td>0.0</td>\n",
              "      <td>0.63</td>\n",
              "    </tr>\n",
              "  </tbody>\n",
              "</table>\n",
              "<p>5203 rows × 10 columns</p>\n",
              "</div>\n",
              "      <button class=\"colab-df-convert\" onclick=\"convertToInteractive('df-dcf1d949-621a-4e4d-bb4f-8a77a6552e72')\"\n",
              "              title=\"Convert this dataframe to an interactive table.\"\n",
              "              style=\"display:none;\">\n",
              "        \n",
              "  <svg xmlns=\"http://www.w3.org/2000/svg\" height=\"24px\"viewBox=\"0 0 24 24\"\n",
              "       width=\"24px\">\n",
              "    <path d=\"M0 0h24v24H0V0z\" fill=\"none\"/>\n",
              "    <path d=\"M18.56 5.44l.94 2.06.94-2.06 2.06-.94-2.06-.94-.94-2.06-.94 2.06-2.06.94zm-11 1L8.5 8.5l.94-2.06 2.06-.94-2.06-.94L8.5 2.5l-.94 2.06-2.06.94zm10 10l.94 2.06.94-2.06 2.06-.94-2.06-.94-.94-2.06-.94 2.06-2.06.94z\"/><path d=\"M17.41 7.96l-1.37-1.37c-.4-.4-.92-.59-1.43-.59-.52 0-1.04.2-1.43.59L10.3 9.45l-7.72 7.72c-.78.78-.78 2.05 0 2.83L4 21.41c.39.39.9.59 1.41.59.51 0 1.02-.2 1.41-.59l7.78-7.78 2.81-2.81c.8-.78.8-2.07 0-2.86zM5.41 20L4 18.59l7.72-7.72 1.47 1.35L5.41 20z\"/>\n",
              "  </svg>\n",
              "      </button>\n",
              "      \n",
              "  <style>\n",
              "    .colab-df-container {\n",
              "      display:flex;\n",
              "      flex-wrap:wrap;\n",
              "      gap: 12px;\n",
              "    }\n",
              "\n",
              "    .colab-df-convert {\n",
              "      background-color: #E8F0FE;\n",
              "      border: none;\n",
              "      border-radius: 50%;\n",
              "      cursor: pointer;\n",
              "      display: none;\n",
              "      fill: #1967D2;\n",
              "      height: 32px;\n",
              "      padding: 0 0 0 0;\n",
              "      width: 32px;\n",
              "    }\n",
              "\n",
              "    .colab-df-convert:hover {\n",
              "      background-color: #E2EBFA;\n",
              "      box-shadow: 0px 1px 2px rgba(60, 64, 67, 0.3), 0px 1px 3px 1px rgba(60, 64, 67, 0.15);\n",
              "      fill: #174EA6;\n",
              "    }\n",
              "\n",
              "    [theme=dark] .colab-df-convert {\n",
              "      background-color: #3B4455;\n",
              "      fill: #D2E3FC;\n",
              "    }\n",
              "\n",
              "    [theme=dark] .colab-df-convert:hover {\n",
              "      background-color: #434B5C;\n",
              "      box-shadow: 0px 1px 3px 1px rgba(0, 0, 0, 0.15);\n",
              "      filter: drop-shadow(0px 1px 2px rgba(0, 0, 0, 0.3));\n",
              "      fill: #FFFFFF;\n",
              "    }\n",
              "  </style>\n",
              "\n",
              "      <script>\n",
              "        const buttonEl =\n",
              "          document.querySelector('#df-dcf1d949-621a-4e4d-bb4f-8a77a6552e72 button.colab-df-convert');\n",
              "        buttonEl.style.display =\n",
              "          google.colab.kernel.accessAllowed ? 'block' : 'none';\n",
              "\n",
              "        async function convertToInteractive(key) {\n",
              "          const element = document.querySelector('#df-dcf1d949-621a-4e4d-bb4f-8a77a6552e72');\n",
              "          const dataTable =\n",
              "            await google.colab.kernel.invokeFunction('convertToInteractive',\n",
              "                                                     [key], {});\n",
              "          if (!dataTable) return;\n",
              "\n",
              "          const docLinkHtml = 'Like what you see? Visit the ' +\n",
              "            '<a target=\"_blank\" href=https://colab.research.google.com/notebooks/data_table.ipynb>data table notebook</a>'\n",
              "            + ' to learn more about interactive tables.';\n",
              "          element.innerHTML = '';\n",
              "          dataTable['output_type'] = 'display_data';\n",
              "          await google.colab.output.renderOutput(dataTable, element);\n",
              "          const docLink = document.createElement('div');\n",
              "          docLink.innerHTML = docLinkHtml;\n",
              "          element.appendChild(docLink);\n",
              "        }\n",
              "      </script>\n",
              "    </div>\n",
              "  </div>\n",
              "  "
            ]
          },
          "metadata": {},
          "execution_count": 7
        }
      ]
    },
    {
      "cell_type": "code",
      "source": [
        "individual_data['actual_average_screen_time']"
      ],
      "metadata": {
        "colab": {
          "base_uri": "https://localhost:8080/"
        },
        "id": "uY4gEx8o_qd9",
        "outputId": "57dae6a1-5f99-48d7-d452-475a8b766f2e"
      },
      "id": "uY4gEx8o_qd9",
      "execution_count": null,
      "outputs": [
        {
          "output_type": "execute_result",
          "data": {
            "text/plain": [
              "(60,)"
            ]
          },
          "metadata": {},
          "execution_count": 22
        }
      ]
    },
    {
      "cell_type": "markdown",
      "id": "27463bfd",
      "metadata": {
        "id": "27463bfd"
      },
      "source": [
        "### Case 1: Actual screen time\n"
      ]
    },
    {
      "cell_type": "code",
      "source": [
        "# find the data type of the column\n",
        "print(\"Data type of the column:\", individual_data['actual_average_screen_time'].dtypes)"
      ],
      "metadata": {
        "colab": {
          "base_uri": "https://localhost:8080/"
        },
        "id": "6nA4eDrM_UmM",
        "outputId": "4876b4b8-81b1-444b-abfb-40ce1cb72c0c"
      },
      "id": "6nA4eDrM_UmM",
      "execution_count": null,
      "outputs": [
        {
          "output_type": "stream",
          "name": "stdout",
          "text": [
            "Data type of the column: float64\n"
          ]
        }
      ]
    },
    {
      "cell_type": "code",
      "source": [
        "# from above, it's fair to conclude that there are no blank string values in the column\n",
        "# and as we can see from the output below, the actual_average_screen_time does not have missing values equal to None or NaN\n",
        "print(\"Number of null values in the column:\", individual_data['actual_average_screen_time'].isnull().sum())"
      ],
      "metadata": {
        "colab": {
          "base_uri": "https://localhost:8080/"
        },
        "id": "AYM8GttH97Ua",
        "outputId": "fc70c017-c142-48ac-8d72-31f3ba05a9c5"
      },
      "id": "AYM8GttH97Ua",
      "execution_count": null,
      "outputs": [
        {
          "output_type": "stream",
          "name": "stdout",
          "text": [
            "Number of null values in the column: 0\n"
          ]
        }
      ]
    },
    {
      "cell_type": "code",
      "source": [
        "# now since the screen time is a float value, and it should be non-negative, we look for negative values in the column\n",
        "number_of_neg_values = (individual_data['actual_average_screen_time'] < 0).sum()\n",
        "print(\"Number of negative values in the column:\", number_of_neg_values)"
      ],
      "metadata": {
        "colab": {
          "base_uri": "https://localhost:8080/"
        },
        "id": "x-ywk0Er_lQ3",
        "outputId": "bdda33b6-3b5c-47d9-bb91-2acd0d715d8a"
      },
      "id": "x-ywk0Er_lQ3",
      "execution_count": null,
      "outputs": [
        {
          "output_type": "stream",
          "name": "stdout",
          "text": [
            "Number of negative values in the column: 4\n"
          ]
        }
      ]
    },
    {
      "cell_type": "code",
      "source": [
        "# thus, we find that the missing values in this column are represented as negative values. what are those values? \n",
        "# let's find out\n",
        "negative_value_rows = individual_data[individual_data['actual_average_screen_time'] < 0]\n",
        "negative_values = negative_value_rows['actual_average_screen_time']\n",
        "\n",
        "print(\"The negative values in the column are:\\n\", negative_values)"
      ],
      "metadata": {
        "colab": {
          "base_uri": "https://localhost:8080/"
        },
        "id": "MWbxtYvtASRs",
        "outputId": "ef259833-e67b-48cf-c59e-b70108d9cdd6"
      },
      "id": "MWbxtYvtASRs",
      "execution_count": null,
      "outputs": [
        {
          "output_type": "stream",
          "name": "stdout",
          "text": [
            "The negative values in the column are:\n",
            " 2    -1.0\n",
            "7    -1.0\n",
            "27   -1.0\n",
            "50   -1.0\n",
            "Name: actual_average_screen_time, dtype: float64\n"
          ]
        }
      ]
    },
    {
      "cell_type": "markdown",
      "id": "d32dc81b",
      "metadata": {
        "id": "d32dc81b"
      },
      "source": [
        "#### Writeup Answer to Problem A: \n",
        "How are missing values represented for this feature?\n"
      ]
    },
    {
      "cell_type": "markdown",
      "source": [
        "Thus, the missing values in the actual_average_screen_time feature are represented as -1."
      ],
      "metadata": {
        "id": "-GcCMeb5CdlI"
      },
      "id": "-GcCMeb5CdlI"
    },
    {
      "cell_type": "code",
      "execution_count": null,
      "id": "4dc34a38",
      "metadata": {
        "id": "4dc34a38",
        "colab": {
          "base_uri": "https://localhost:8080/",
          "height": 296
        },
        "outputId": "1de9eede-3008-4c26-f6b3-ba455d5d39fc"
      },
      "outputs": [
        {
          "output_type": "display_data",
          "data": {
            "text/plain": [
              "<Figure size 432x288 with 1 Axes>"
            ],
            "image/png": "[encoded data removed]"
          },
          "metadata": {
            "needs_background": "light"
          }
        }
      ],
      "source": [
        "## Case 1 Problem B code and graph\n",
        "import matplotlib.pyplot as plt \n",
        "def plot_hist(values):\n",
        "  plt.hist(values, bins=56)\n",
        "  plt.title('Histogram of non-missing values')\n",
        "  plt.xlabel('actual_average_screen_time')\n",
        "  plt.ylabel('frequency')\n",
        "  plt.show()\n",
        "non_missing_values = individual_data[individual_data['actual_average_screen_time'] > 0]['actual_average_screen_time']\n",
        "plot_hist(non_missing_values)"
      ]
    },
    {
      "cell_type": "code",
      "source": [
        "q1 = non_missing_values.quantile(0.25)\n",
        "q3 = non_missing_values.quantile(0.75)\n",
        "iqr = q3 - q1\n",
        "print(\"The inter quartile range is:\", iqr)\n",
        "\n",
        "lower_bound = q1 - (1.5 * iqr)\n",
        "upper_bound = q3 + (1.5 * iqr)\n",
        "outliers = non_missing_values[(non_missing_values > upper_bound) | (non_missing_values < lower_bound)]\n",
        "print(\"Number of outliers in the column:\", len(outliers))\n",
        "\n",
        "# to check skewness, we use pandas skew function\n",
        "skewness_value = non_missing_values.skew()\n",
        "print(\"The skewness value is:\", skewness_value)"
      ],
      "metadata": {
        "colab": {
          "base_uri": "https://localhost:8080/"
        },
        "id": "LmZ4YM-eF37j",
        "outputId": "56c3ba2e-0948-4534-be58-065eefbea1d5"
      },
      "id": "LmZ4YM-eF37j",
      "execution_count": null,
      "outputs": [
        {
          "output_type": "stream",
          "name": "stdout",
          "text": [
            "The inter quartile range is: 1.3849999999999998\n",
            "Number of outliers in the column: 2\n",
            "The skewness value is: 2.4639261915800215\n"
          ]
        }
      ]
    },
    {
      "cell_type": "markdown",
      "id": "1230f9f5",
      "metadata": {
        "id": "1230f9f5"
      },
      "source": [
        "#### Writeup Answer to Problem B: \n",
        " Does it have outliers?If so, how many?\n",
        " Is it skewed? If so, is it left skewed or right skewed? What’s the skewness? "
      ]
    },
    {
      "cell_type": "markdown",
      "source": [
        "Yes, the column does have outliers. It has 2 outliers. The column is right skewed with a skewness value of 2.4639261915800215."
      ],
      "metadata": {
        "id": "hlh9V2dEHKbC"
      },
      "id": "hlh9V2dEHKbC"
    },
    {
      "cell_type": "code",
      "execution_count": null,
      "id": "e0692080",
      "metadata": {
        "id": "e0692080",
        "colab": {
          "base_uri": "https://localhost:8080/",
          "height": 279
        },
        "outputId": "84547abc-d718-4744-e54f-57c75d834fe3"
      },
      "outputs": [
        {
          "output_type": "display_data",
          "data": {
            "text/plain": [
              "<Figure size 432x288 with 1 Axes>"
            ],
            "image/png": "[encoded data removed]"
          },
          "metadata": {
            "needs_background": "light"
          }
        }
      ],
      "source": [
        "## Case 1 Problem C code and graph\n",
        "original_data = individual_data['actual_average_screen_time']\n",
        "non_missing_data = original_data[original_data >= 0]\n",
        "\n",
        "median = non_missing_data.median()\n",
        "mean = non_missing_data.mean()\n",
        "\n",
        "data_median = original_data.copy()\n",
        "data_median.loc[data_median < 0] = median\n",
        "\n",
        "data_mean = original_data.copy()\n",
        "data_mean.loc[data_mean < 0] = mean\n",
        "\n",
        "# for random values, let's consider the range of min value to max value inside the column\n",
        "min_value = non_missing_data.min()\n",
        "max_value = non_missing_data.max()\n",
        "random_values = np.random.uniform(min_value, max_value, len(original_data) - len(non_missing_data))\n",
        "data_random = original_data.copy()\n",
        "data_random.loc[data_random < 0] = random_values \n",
        "plt.hist(original_data, bins=60, label='original distribution')\n",
        "plt.hist(data_mean, bins=60, label='mean distribution')\n",
        "plt.hist(data_median, bins=60, label='median distribution')\n",
        "plt.hist(data_random, bins=60, label='random distribution')\n",
        "plt.xlabel('Value')\n",
        "plt.ylabel('Frequency')\n",
        "plt.legend(loc='upper right')\n",
        "plt.show()"
      ]
    },
    {
      "cell_type": "markdown",
      "id": "be154018",
      "metadata": {
        "id": "be154018"
      },
      "source": [
        "#### Writeup Answer to Problem C: \n",
        "How did you choose the random value from method 3)? \n",
        "How do the distributions look like after you implement the three filling methods? (Compare them)\n"
      ]
    },
    {
      "cell_type": "markdown",
      "source": [
        "I chose the random values to be in the range [min_value, max_value] where these values are the minimum and the maximum values in the column respectively. \n",
        "The distributions are plotted above. Since all distributions have the same values except on 4 indices, they look largely the same. Furthermore, since the mean and the median values are very similar, the difference between their histogram plots can only be observed if we use a large number of bins in the plot method. The random values differs in only the 4 indices where it takes random values from the above specified range. Finally, only the original distribution has negative values."
      ],
      "metadata": {
        "id": "yYEWbrOlQYpR"
      },
      "id": "yYEWbrOlQYpR"
    },
    {
      "cell_type": "code",
      "execution_count": null,
      "id": "d8eb180e",
      "metadata": {
        "id": "d8eb180e",
        "colab": {
          "base_uri": "https://localhost:8080/"
        },
        "outputId": "75bd6fca-b8f2-4eb5-905c-6ff8a36c630e"
      },
      "outputs": [
        {
          "output_type": "stream",
          "name": "stdout",
          "text": [
            "The p-values of the distributions are:\n",
            "Mean -> 0.7490699892562133\n",
            "Median -> 0.7969721432481117\n",
            "Random -> 0.3676494078512619\n"
          ]
        }
      ],
      "source": [
        "## Case 1 Problem D code and graph\n",
        "population_distribution = np.random.normal(3.85, 1.25, len(original_data))\n",
        "_, p_value_median = ttest_ind(data_median, population_distribution)\n",
        "_, p_value_mean = ttest_ind(data_mean, population_distribution)\n",
        "_, p_value_random = ttest_ind(data_random, population_distribution)\n",
        "\n",
        "print(f\"The p-values of the distributions are:\\nMean -> {p_value_mean}\\nMedian -> {p_value_median}\\nRandom -> {p_value_random}\")"
      ]
    },
    {
      "cell_type": "markdown",
      "id": "a8b633b9",
      "metadata": {
        "id": "a8b633b9"
      },
      "source": [
        "#### Answer to Problem D: \n",
        "Report the three p-values. Which one of the filling methods reconstruct this feature to be closest to the research distribution? Why do you think this is the case?\n"
      ]
    },
    {
      "cell_type": "markdown",
      "source": [
        "The three p-values are: \n",
        "Mean -> 0.7490699892562133 \n",
        "Median -> 0.7969721432481117\n",
        "Random -> 0.3676494078512619 \n",
        "\n",
        "Filling with median seems to most closely resemble the research distribution. I belive this is the case because it's p-value is the highest amongst the three, indicating that there is a higher chance of the median-filled distribution belonging to the same population as the research distribution. Besides the p-value, it also makes sense. The randomly filled distribution has a low chance of being similar to the research data because of the randomness in the values. Furthermore, due to the presence of outliers, the mean filled data might not be the most accuracte representation. Since mean are more sensitive to outliers than median, I belive median filled data is the best distribution among the three."
      ],
      "metadata": {
        "id": "CKJjzuX6OzlE"
      },
      "id": "CKJjzuX6OzlE"
    },
    {
      "cell_type": "markdown",
      "id": "303a518b",
      "metadata": {
        "id": "303a518b"
      },
      "source": [
        "### Case 2: Perceived average screen time"
      ]
    },
    {
      "cell_type": "code",
      "execution_count": null,
      "id": "21571972",
      "metadata": {
        "id": "21571972",
        "colab": {
          "base_uri": "https://localhost:8080/",
          "height": 487
        },
        "outputId": "cd3ff1a1-92e1-40fb-c73a-022abe6bd6dc"
      },
      "outputs": [
        {
          "output_type": "stream",
          "name": "stdout",
          "text": [
            "The data type of this column: float64\n",
            "The number of null values: 0\n",
            "The number of negative values: 7\n",
            "The negative values: 3    -1.0\n",
            "15   -1.0\n",
            "24   -1.0\n",
            "28   -1.0\n",
            "42   -1.0\n",
            "44   -1.0\n",
            "46   -1.0\n",
            "Name: perceived_average_screen_time, dtype: float64\n"
          ]
        },
        {
          "output_type": "display_data",
          "data": {
            "text/plain": [
              "<Figure size 432x288 with 1 Axes>"
            ],
            "image/png": "[encoded data removed]"
          },
          "metadata": {
            "needs_background": "light"
          }
        }
      ],
      "source": [
        "## Case 2 Problem A code and histogram\n",
        "perceived_time = individual_data['perceived_average_screen_time']\n",
        "print(\"The data type of this column:\", perceived_time.dtypes)\n",
        "print(\"The number of null values:\", pd.isnull(perceived_time).sum())\n",
        "print(\"The number of negative values:\", (perceived_time < 0).sum())\n",
        "print(\"The negative values:\", perceived_time[perceived_time <= 0])"
      ]
    },
    {
      "cell_type": "code",
      "source": [
        "non_missing_perceived_time = perceived_time[perceived_time >= 0]\n",
        "plt.hist(non_missing_perceived_time, bins=53)\n",
        "plt.title('Histogram of non-missing values')\n",
        "plt.xlabel('perceived_screen_time')\n",
        "plt.ylabel('frequency')\n",
        "plt.show()"
      ],
      "metadata": {
        "colab": {
          "base_uri": "https://localhost:8080/",
          "height": 296
        },
        "id": "haB91abjdRlM",
        "outputId": "d4ab0f22-6973-4c1a-fcda-5657d77dde51"
      },
      "id": "haB91abjdRlM",
      "execution_count": null,
      "outputs": [
        {
          "output_type": "display_data",
          "data": {
            "text/plain": [
              "<Figure size 432x288 with 1 Axes>"
            ],
            "image/png": "[encoded data removed]"
          },
          "metadata": {
            "needs_background": "light"
          }
        }
      ]
    },
    {
      "cell_type": "code",
      "source": [
        "q1 = non_missing_perceived_time.quantile(0.25)\n",
        "q3 = non_missing_perceived_time.quantile(0.75)\n",
        "iqr = q3 - q1\n",
        "print(\"The inter quartile range is:\", iqr)\n",
        "\n",
        "lower_bound = q1 - (1.5 * iqr)\n",
        "upper_bound = q3 + (1.5 * iqr)\n",
        "outliers = non_missing_perceived_time[(non_missing_perceived_time > upper_bound) | (non_missing_perceived_time < lower_bound)]\n",
        "print(\"Number of outliers in the column:\", len(outliers))\n",
        "\n",
        "# to check skewness, we use pandas skew function\n",
        "skewness_value = non_missing_perceived_time.skew()\n",
        "print(\"The skewness value is:\", skewness_value)"
      ],
      "metadata": {
        "colab": {
          "base_uri": "https://localhost:8080/"
        },
        "id": "61XBJogbdUZY",
        "outputId": "b2dd1ae7-5723-4d78-cc82-19518b82129e"
      },
      "id": "61XBJogbdUZY",
      "execution_count": null,
      "outputs": [
        {
          "output_type": "stream",
          "name": "stdout",
          "text": [
            "The inter quartile range is: 1.1\n",
            "Number of outliers in the column: 2\n",
            "The skewness value is: -0.21439363473731404\n"
          ]
        }
      ]
    },
    {
      "cell_type": "markdown",
      "id": "d16e402a",
      "metadata": {
        "id": "d16e402a"
      },
      "source": [
        "#### Writeup Answer to Problem B: \n",
        " Does it have outliers?If so, how many? \n",
        " Is it skewed? If so, is it left skewed or right skewed? What’s the skewness? \n"
      ]
    },
    {
      "cell_type": "markdown",
      "source": [
        "Yes, the column does have outliers. It has 2 outliers. The column is left skewed with a skewness value of -0.21439363473731404."
      ],
      "metadata": {
        "id": "e8wnCsJidlhi"
      },
      "id": "e8wnCsJidlhi"
    },
    {
      "cell_type": "code",
      "execution_count": null,
      "id": "b2c9df5d",
      "metadata": {
        "id": "b2c9df5d",
        "colab": {
          "base_uri": "https://localhost:8080/"
        },
        "outputId": "5482e467-1fff-4d08-d98f-4dd9d4a20851"
      },
      "outputs": [
        {
          "output_type": "stream",
          "name": "stdout",
          "text": [
            "The number of intense users: 4\n"
          ]
        }
      ],
      "source": [
        "## Case 2 Problem B code\n",
        "# Let’s define an intense phone user as someone whose average screen time is at least one standard deviation \n",
        "# larger than the mean screen usage time. How many of them are intense phone users? \n",
        "# (Note: Do not remove outliers) (Note: think of which data should be using actual_average_screen_time or perceived_average_screen_time) \n",
        "\n",
        "mean_screen_usage_time = non_missing_values.mean()\n",
        "stdev = non_missing_values.std()\n",
        "print(\"The number of intense users:\", (non_missing_values >= mean_screen_usage_time + stdev).sum())"
      ]
    },
    {
      "cell_type": "markdown",
      "id": "5ec6e026",
      "metadata": {
        "id": "5ec6e026"
      },
      "source": [
        "How many of them are intense phone users?"
      ]
    },
    {
      "cell_type": "markdown",
      "source": [
        "There are 4 intense users."
      ],
      "metadata": {
        "id": "dVJOVg5qeooW"
      },
      "id": "dVJOVg5qeooW"
    },
    {
      "cell_type": "code",
      "execution_count": 133,
      "id": "26e9758b",
      "metadata": {
        "id": "26e9758b",
        "colab": {
          "base_uri": "https://localhost:8080/"
        },
        "outputId": "62ba80d6-b670-41e7-91a5-d95721ff81c4"
      },
      "outputs": [
        {
          "output_type": "stream",
          "name": "stdout",
          "text": [
            "The pvalue is: 1.0\n"
          ]
        }
      ],
      "source": [
        "## Case 2 Problem C code and graph\n",
        "# Create two binomial distributions of A) missing perceived_average_screen_time and B) intense phone users. In another word, generate a boolean array for A) and B). \n",
        "# Perform a Chi-square test on these two distributions. What is the p-value? Do you think they are correlated? What does this mean? \n",
        "# Do you think this feature is MAR or MNAR? \n",
        "# (Note and hint: If the user’s actual screen time is missing, you should not count that user as either intensive or non-intensive, you should filter out those users)\n",
        "\n",
        "missing = (perceived_time == -1)\n",
        "intense = (original_data >= mean_screen_usage_time + stdev)\n",
        "contingency_table = [[0, 0], [0, 0]]\n",
        "\n",
        "for i in range(len(missing)):\n",
        "  for j in range(len(intense)):\n",
        "    if missing[i] and intense[j]:\n",
        "        contingency_table[0][0] += 1\n",
        "    elif missing[i] and not intense[j]:\n",
        "        contingency_table[0][1] += 1\n",
        "    elif not missing[i] and intense[j]:\n",
        "        contingency_table[1][0] += 1\n",
        "    else:\n",
        "        contingency_table[1][1] += 1\n",
        "\n",
        "_, pvalue, _, _ = chi2_contingency(contingency_table)\n",
        "print(\"The pvalue is:\", pvalue)"
      ]
    },
    {
      "cell_type": "markdown",
      "id": "497b1f4a",
      "metadata": {
        "id": "497b1f4a"
      },
      "source": [
        "What is the p-value? Do you think they are correlated? What does this mean? Do you think this feature is MAR or MNAR? "
      ]
    },
    {
      "cell_type": "markdown",
      "source": [
        "The p-value is 1.0. This implies that we cannot reject the hypothesis that there is no significant difference between the two distributions. Although the chi square test is not suitable to test for correlatedness, it seems safe to assume both are correlated. This means that for the users for whom we don't have the perceived screen usage times are very likely to be intense users. This conclusion implies that this feature is therefore MNAR because it can be argued that the intense users would be unwilling to report their perceived screen time because they fear it is too high."
      ],
      "metadata": {
        "id": "82HczySqlgvD"
      },
      "id": "82HczySqlgvD"
    },
    {
      "cell_type": "markdown",
      "id": "ad51b7e8",
      "metadata": {
        "id": "ad51b7e8"
      },
      "source": [
        "### Case 3: Location"
      ]
    },
    {
      "cell_type": "code",
      "execution_count": null,
      "id": "9f197917",
      "metadata": {
        "id": "9f197917"
      },
      "outputs": [],
      "source": [
        "## Case 3 Problem A code (graph)"
      ]
    },
    {
      "cell_type": "markdown",
      "id": "818e75b8",
      "metadata": {
        "id": "818e75b8"
      },
      "source": [
        "explanation of implementation"
      ]
    },
    {
      "cell_type": "code",
      "execution_count": null,
      "id": "605e94ed",
      "metadata": {
        "id": "605e94ed"
      },
      "outputs": [],
      "source": [
        "## Case 3 Problem B code and graph"
      ]
    },
    {
      "cell_type": "markdown",
      "id": "7637d770",
      "metadata": {
        "id": "7637d770"
      },
      "source": [
        "Compare the 4 traces. What do you see? If you were to use this dataset for further analysis, which filling method will you choose? \n"
      ]
    }
  ],
  "metadata": {
    "kernelspec": {
      "display_name": "Python 3 (ipykernel)",
      "language": "python",
      "name": "python3"
    },
    "language_info": {
      "codemirror_mode": {
        "name": "ipython",
        "version": 3
      },
      "file_extension": ".py",
      "mimetype": "text/x-python",
      "name": "python",
      "nbconvert_exporter": "python",
      "pygments_lexer": "ipython3",
      "version": "3.9.10"
    },
    "colab": {
      "provenance": []
    }
  },
  "nbformat": 4,
  "nbformat_minor": 5
}